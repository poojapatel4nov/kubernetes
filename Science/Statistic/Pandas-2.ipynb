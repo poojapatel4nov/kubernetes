{
 "cells": [
  {
   "cell_type": "markdown",
   "metadata": {},
   "source": [
    "Pandas "
   ]
  },
  {
   "cell_type": "markdown",
   "metadata": {},
   "source": [
    "Two Type of data structure in pandas,\n",
    "1. Series:- Series is a one-dimensional labeled array capable of holding data of any type (integer, string, float, python objects, etc.). The axis labels are collectively called index. syntax for series constructor is \n",
    "\n",
    "    pandas.Series( data, index, dtype, copy)\n",
    "\n",
    "    A series can be created using various inputs like −\n",
    "\n",
    "    Array\n",
    "    Dict\n",
    "    Scalar value or constant\n",
    "\n",
    "\n",
    "2. Dataframe:-A Data frame is a two-dimensional data structure, i.e., data is aligned in a tabular fashion in rows and columns.\n",
    "\n",
    "    Features of DataFrame\n",
    "    Potentially columns are of different types\n",
    "    Size – Mutable\n",
    "    Labeled axes (rows and columns)\n",
    "    Can Perform Arithmetic operations on rows and columns\n",
    "    \n",
    "    Dataframe can be cretaed using below construct\n",
    "    pandas.DataFrame( data, index, columns, dtype, copy)\n",
    "    \n",
    "    A pandas DataFrame can be created using various inputs like −\n",
    "\n",
    "    Lists\n",
    "    dict\n",
    "    Series\n",
    "    Numpy ndarrays\n",
    "    Another DataFrame"
   ]
  },
  {
   "cell_type": "markdown",
   "metadata": {},
   "source": [
    "# Series"
   ]
  },
  {
   "cell_type": "code",
   "execution_count": null,
   "metadata": {},
   "outputs": [],
   "source": [
    "import pandas as pd\n",
    "import numpy as np"
   ]
  },
  {
   "cell_type": "code",
   "execution_count": null,
   "metadata": {},
   "outputs": [],
   "source": [
    "a= pd.Series([1,2,3,4])\n",
    "a"
   ]
  },
  {
   "cell_type": "code",
   "execution_count": null,
   "metadata": {},
   "outputs": [],
   "source": [
    "b = pd.Series([11,22,33,44,55])\n",
    "b"
   ]
  },
  {
   "cell_type": "code",
   "execution_count": null,
   "metadata": {},
   "outputs": [],
   "source": [
    "a =pd.Series([11,22,33,44,55],index=[100,101,102,103,104]) #Change default index\n",
    "a"
   ]
  },
  {
   "cell_type": "code",
   "execution_count": null,
   "metadata": {},
   "outputs": [],
   "source": [
    "a =pd.Series([1,2,3,4,5],index=[100,101,102,103,104],dtype=float) #Change default dtype from ind to float\n",
    "a"
   ]
  },
  {
   "cell_type": "code",
   "execution_count": null,
   "metadata": {},
   "outputs": [],
   "source": [
    "a[103]  #access data on index value"
   ]
  },
  {
   "cell_type": "code",
   "execution_count": null,
   "metadata": {},
   "outputs": [],
   "source": [
    "s = pd.Series([1,2,3,4,5])\n",
    "s[0]                       #access data on index value"
   ]
  },
  {
   "cell_type": "code",
   "execution_count": null,
   "metadata": {},
   "outputs": [],
   "source": [
    "s[3]       #access data on index value"
   ]
  },
  {
   "cell_type": "code",
   "execution_count": null,
   "metadata": {},
   "outputs": [],
   "source": [
    "k=pd.Series([10,20,30,40,50])\n",
    "print(k[0:2])"
   ]
  },
  {
   "cell_type": "code",
   "execution_count": null,
   "metadata": {},
   "outputs": [],
   "source": [
    "d = np.array([1,2,3,4,5,6])\n",
    "m = pd.Series(d)\n",
    "m"
   ]
  },
  {
   "cell_type": "code",
   "execution_count": null,
   "metadata": {},
   "outputs": [],
   "source": [
    "d = np.array([1,2,3,4,5,6])\n",
    "m = pd.Series(d,dtype='int64',index=np.arange(101,107))   #using np array in pd Series\n",
    "m"
   ]
  },
  {
   "cell_type": "code",
   "execution_count": null,
   "metadata": {},
   "outputs": [],
   "source": [
    "#dictionary assigment in pandas Series.\n",
    "dict = {'Name':'Dinesh', 'Age':25, 'Department':'IT'}\n",
    "m = pd.Series(dict)\n",
    "m"
   ]
  },
  {
   "cell_type": "code",
   "execution_count": null,
   "metadata": {},
   "outputs": [],
   "source": [
    "player = {'Name':'Dinesh', 'Run':25,'Balls':10,'inniges':1 }\n",
    "print(player)\n",
    "m = pd.Series(player)\n",
    "m"
   ]
  },
  {
   "cell_type": "markdown",
   "metadata": {},
   "source": [
    "# Dataframe"
   ]
  },
  {
   "cell_type": "code",
   "execution_count": null,
   "metadata": {},
   "outputs": [],
   "source": [
    "import pandas as pd"
   ]
  },
  {
   "cell_type": "code",
   "execution_count": null,
   "metadata": {},
   "outputs": [],
   "source": [
    "data = [1,2,3,4,5,6,7]\n",
    "pdata = pd.DataFrame(data)\n",
    "pdata"
   ]
  },
  {
   "cell_type": "code",
   "execution_count": null,
   "metadata": {},
   "outputs": [],
   "source": [
    "data = [[\"Dinesh\",10],['Vijay',25],['Gaurav',50]]\n",
    "df = pd.DataFrame(data)         #Datafram using list of the list without column name its default columns will be used which is 0,1,2...\n",
    "df"
   ]
  },
  {
   "cell_type": "code",
   "execution_count": null,
   "metadata": {},
   "outputs": [],
   "source": [
    "data = [[\"Dinesh\",10],['Vijay',25],['Gaurav',50]]\n",
    "df = pd.DataFrame(data,columns=['Name','Age'])   #Specify Column name in Dataframe\n",
    "df"
   ]
  },
  {
   "cell_type": "code",
   "execution_count": null,
   "metadata": {},
   "outputs": [],
   "source": [
    "data = [[\"Dinesh\",10],['Vijay',25],['Gaurav',50]]   #using list of lists as Data\n",
    "df = pd.DataFrame(data,columns=['Name','Age'],dtype=float) #Specifiy datatype for numerical value columns\n",
    "df"
   ]
  },
  {
   "cell_type": "code",
   "execution_count": null,
   "metadata": {},
   "outputs": [],
   "source": [
    "data = {'Name':['Dinesh','Rakesh','Mahesh','Suresh'],'Age':[20,21,22,10]} #Using dictionary as data\n",
    "df = pd.DataFrame(data,dtype=float)       #defining  datatype for data in Dataframe, column name picked up from dictionary Key\n",
    "df"
   ]
  },
  {
   "cell_type": "code",
   "execution_count": null,
   "metadata": {},
   "outputs": [],
   "source": [
    "import pandas as pd\n",
    "data = [{'a':1,'b':4},{'a':2,'b':3,'c':5}]   #For Missing values in data, pandas fil NAN in that row\n",
    "df = pd.DataFrame(data)\n",
    "df"
   ]
  },
  {
   "cell_type": "code",
   "execution_count": null,
   "metadata": {},
   "outputs": [],
   "source": [
    "import pandas as pd\n",
    "data = [{'a':1,'b':4},{'a':2,'b':3,'c':5}]   #For Missing values in data, pandas fil NAN in that row\n",
    "df = pd.DataFrame(data,index=['First','Second'])    #We can define Row name using index parameter in DataFrame\n",
    "df "
   ]
  },
  {
   "cell_type": "code",
   "execution_count": null,
   "metadata": {},
   "outputs": [],
   "source": [
    "data = [{'a':1,'b':4},{'a':2,'b':3,'c':5}]\n",
    "#with two column indices values same as dictionary key\n",
    "df1 = pd.DataFrame(data,index=['First','Second'],columns=['a','b'])\n",
    "#with Two column indices with one index having other name\n",
    "df2 = pd.DataFrame(data,index=['First','Second'],columns=['a','b1'])\n",
    "\n",
    "print(df1)\n",
    "print(\"\\n----------------\\n\")\n",
    "print(df2)"
   ]
  },
  {
   "cell_type": "code",
   "execution_count": null,
   "metadata": {},
   "outputs": [],
   "source": [
    "#indexing and Slicing on pandas Dataframe.\n",
    "import numpy as np\n",
    "data = np.random.randn(8,2)\n",
    "data"
   ]
  },
  {
   "cell_type": "markdown",
   "metadata": {},
   "source": [
    "# Indexing and Slicing in dataframe\n",
    "There are two mathod in for indexing and slicing.\n",
    "1. using loc (Label Based method)\n",
    "2. using iloc (index location method)"
   ]
  },
  {
   "cell_type": "code",
   "execution_count": null,
   "metadata": {},
   "outputs": [],
   "source": [
    "#indexing and Slicing on pandas Dataframe.\n",
    "import numpy as np\n",
    "data = np.random.randn(8,4)\n",
    "df = pd.DataFrame(data,columns=['A','B','C','D'])\n",
    "\n",
    "df"
   ]
  },
  {
   "cell_type": "code",
   "execution_count": null,
   "metadata": {},
   "outputs": [],
   "source": [
    "df.loc[:,'A']   #Using LOC function , print all row of cloumn A"
   ]
  },
  {
   "cell_type": "code",
   "execution_count": null,
   "metadata": {},
   "outputs": [],
   "source": [
    "df.loc[1:3,'A':'B']   #Using LOC method printing 1to 3 row of column A to B"
   ]
  },
  {
   "cell_type": "code",
   "execution_count": null,
   "metadata": {},
   "outputs": [],
   "source": [
    "df.loc[2:3,'A':'C']   #Using LOC method printing 2to 3 row of column A to C"
   ]
  },
  {
   "cell_type": "code",
   "execution_count": null,
   "metadata": {},
   "outputs": [],
   "source": [
    "df.loc[2:3]   #Using LOC method printing 2to 3 row of all columns"
   ]
  },
  {
   "cell_type": "code",
   "execution_count": null,
   "metadata": {},
   "outputs": [],
   "source": [
    "df = pd.DataFrame(np.random.randn(8,4), columns=['A','B','C','D'])\n",
    "df"
   ]
  },
  {
   "cell_type": "code",
   "execution_count": null,
   "metadata": {},
   "outputs": [],
   "source": [
    "df.iloc[0:4,:]  #Printing all the columns from row index no 0 to 3 using iloc function"
   ]
  },
  {
   "cell_type": "code",
   "execution_count": null,
   "metadata": {},
   "outputs": [],
   "source": [
    "df.iloc[:,0:2]   #Print all row of  First 2 cloumns using iloc function "
   ]
  },
  {
   "cell_type": "code",
   "execution_count": null,
   "metadata": {},
   "outputs": [],
   "source": [
    "df.iloc[3:4,0:2]  #Printing 3rd row and first two columns using iloc"
   ]
  },
  {
   "cell_type": "code",
   "execution_count": null,
   "metadata": {},
   "outputs": [],
   "source": [
    "df.iloc[4:6,1:4]  #Printing 3rd row and first two columns using iloc, 6 and 4 is excluded "
   ]
  },
  {
   "cell_type": "code",
   "execution_count": null,
   "metadata": {},
   "outputs": [],
   "source": [
    "df.iloc[:,-3:-1]  #Using nagative indexing , nagative indexing start from last index location as -1, "
   ]
  },
  {
   "cell_type": "code",
   "execution_count": null,
   "metadata": {},
   "outputs": [],
   "source": [
    "df.iloc[-2:-1,-3:-1]  #Printing second last row and -3 and -2 columns "
   ]
  },
  {
   "cell_type": "code",
   "execution_count": null,
   "metadata": {},
   "outputs": [],
   "source": [
    "df.iloc[:-1,:-1]  #We can not print last columns or row using nagative index iloc function"
   ]
  },
  {
   "cell_type": "code",
   "execution_count": null,
   "metadata": {},
   "outputs": [],
   "source": [
    "df.iloc[:,-1] #Prinit Last Column"
   ]
  },
  {
   "cell_type": "code",
   "execution_count": null,
   "metadata": {},
   "outputs": [],
   "source": [
    "df"
   ]
  },
  {
   "cell_type": "code",
   "execution_count": null,
   "metadata": {},
   "outputs": [],
   "source": [
    "df.iloc[:,-3]  #print 3rd column counting from last (-1 index id)"
   ]
  },
  {
   "cell_type": "code",
   "execution_count": null,
   "metadata": {},
   "outputs": [],
   "source": [
    "df.iloc[:,3] #prints last column as its index id is 3 when counting from 0"
   ]
  },
  {
   "cell_type": "code",
   "execution_count": null,
   "metadata": {},
   "outputs": [],
   "source": [
    "df.iloc[:,-3:-2] #-2 excluded"
   ]
  },
  {
   "cell_type": "code",
   "execution_count": null,
   "metadata": {},
   "outputs": [],
   "source": [
    "df.iloc[:,-4]       "
   ]
  },
  {
   "cell_type": "code",
   "execution_count": null,
   "metadata": {},
   "outputs": [],
   "source": [
    "df.iloc[2:6,-4:-2]"
   ]
  },
  {
   "cell_type": "code",
   "execution_count": null,
   "metadata": {},
   "outputs": [],
   "source": [
    "df.iloc[2:7,-3:-1]"
   ]
  },
  {
   "cell_type": "code",
   "execution_count": null,
   "metadata": {},
   "outputs": [],
   "source": [
    "df.iloc[:,-4:-1]"
   ]
  },
  {
   "cell_type": "markdown",
   "metadata": {},
   "source": [
    "# Visulization in Pandas\n"
   ]
  },
  {
   "cell_type": "markdown",
   "metadata": {},
   "source": [
    "import pandas as pd"
   ]
  },
  {
   "cell_type": "code",
   "execution_count": null,
   "metadata": {},
   "outputs": [],
   "source": [
    "import pandas as pd\n",
    "import numpy as np\n",
    "df = pd.DataFrame(np.random.rand(10,4),columns=['a','b','c','d'])\n",
    "print(df)\n",
    "df.plot.bar()   #Ploting and a BAR graph"
   ]
  },
  {
   "cell_type": "code",
   "execution_count": null,
   "metadata": {},
   "outputs": [],
   "source": [
    "df.plot.barh(stacked=True)    #barh plot horizontal graph"
   ]
  },
  {
   "cell_type": "code",
   "execution_count": null,
   "metadata": {},
   "outputs": [],
   "source": [
    "df.plot.bar(stacked=True)"
   ]
  },
  {
   "cell_type": "code",
   "execution_count": null,
   "metadata": {},
   "outputs": [],
   "source": [
    "df.plot.hist(bins=20)"
   ]
  },
  {
   "cell_type": "code",
   "execution_count": null,
   "metadata": {},
   "outputs": [],
   "source": [
    "df.plot.box()               #Box plot can bedrawn calling Series.box.plot() \n",
    "                            #and DataFrame.box.plot() or DataFrame.boxplot() to visualize the distribution"
   ]
  },
  {
   "cell_type": "code",
   "execution_count": null,
   "metadata": {},
   "outputs": [],
   "source": [
    "df.plot.area()"
   ]
  },
  {
   "cell_type": "code",
   "execution_count": null,
   "metadata": {},
   "outputs": [],
   "source": [
    "df.plot.scatter(x='a',y='b')"
   ]
  },
  {
   "cell_type": "code",
   "execution_count": null,
   "metadata": {},
   "outputs": [],
   "source": [
    "raw_data ={\n",
    "        'Subject_id':['1','2','3','4','5'],\n",
    "        'First_Name':['Alex','Amy','Alice','Ayoung','Anna'],\n",
    "        'Last_Name':['Anderson','Ackerman','Ali','Aoni', 'anderson']}      #Data as dictionary \n",
    "\n",
    "df_a = pd.DataFrame(raw_data)\n",
    "df_a"
   ]
  },
  {
   "cell_type": "code",
   "execution_count": null,
   "metadata": {},
   "outputs": [],
   "source": [
    "raw_data ={\n",
    "        'Subject_id':['6','7','8','9', '10'],\n",
    "        'First_Name':['Brian','Bob','Brakha','Bimlesh','jeven'],\n",
    "        'Last_Name':['Kwok','Sum','Ali','Devi','ram']}\n",
    "\n",
    "df_b = pd.DataFrame(raw_data)\n",
    "df_b"
   ]
  },
  {
   "cell_type": "code",
   "execution_count": null,
   "metadata": {},
   "outputs": [],
   "source": [
    "raw_data ={\n",
    "        'Subject_id':['1','2','3','4','5','6','7','8'],\n",
    "        'Test_id':['56','57','59','60','61','61','62','63'],}\n",
    "\n",
    "df_c = pd.DataFrame(raw_data)\n",
    "df_c"
   ]
  },
  {
   "cell_type": "code",
   "execution_count": null,
   "metadata": {},
   "outputs": [],
   "source": [
    "#Concate two datafram\n",
    "\n",
    "df_new = pd.concat([df_a,df_b],ignore_index=True)    #ignore_index recreate index instead of using indexes of source dataframe\n",
    "\n",
    "df_new\n"
   ]
  },
  {
   "cell_type": "code",
   "execution_count": null,
   "metadata": {},
   "outputs": [],
   "source": [
    "df_new = pd.concat([df_a,df_b])    #Check row indexes, for two data frame it is same as in source datafram, \n",
    "                                                    #if ignore_index is not defined then default is False\n",
    "\n",
    "df_new"
   ]
  },
  {
   "cell_type": "code",
   "execution_count": null,
   "metadata": {},
   "outputs": [],
   "source": [
    "df_new = pd.concat([df_a,df_b], axis=1)         #Add data along with column, instea of row using axis =1, default value for axis is 0 means it will concate along with row\n",
    "df_new"
   ]
  },
  {
   "cell_type": "code",
   "execution_count": null,
   "metadata": {},
   "outputs": [],
   "source": [
    "df_d = pd.concat([df_a,df_b], ignore_index=True)         #Add data along with column, instea of row\n",
    "df_d"
   ]
  },
  {
   "cell_type": "code",
   "execution_count": null,
   "metadata": {},
   "outputs": [],
   "source": [
    "df_e = pd.merge(df_d,df_c)         #Marge two data frame\n",
    "df_e"
   ]
  },
  {
   "cell_type": "markdown",
   "metadata": {},
   "source": [
    "# Merge\n",
    "Merge DataFrame or named Series objects with a database-style join.\n",
    "The join is done on columns or indexes. If joining columns on columns, the DataFrame indexes will be ignored. Otherwise if joining indexes on indexes or indexes on a column or columns, the index will be passed on. When performing a cross merge, no column specifications to merge on are allowed.\n",
    "\n",
    "Parameters\n",
    "rightDataFrame or named Series\n",
    "Object to merge with.\n",
    "\n",
    "how{‘left’, ‘right’, ‘outer’, ‘inner’, ‘cross’}, default ‘inner’\n",
    "Type of merge to be performed.\n",
    "left: use only keys from left frame, similar to a SQL left outer join; preserve key order.\n",
    "\n",
    "right: use only keys from right frame, similar to a SQL right outer join; preserve key order.\n",
    "\n",
    "outer: use union of keys from both frames, similar to a SQL full outer join; sort keys lexicographically.\n",
    "\n",
    "inner: use intersection of keys from both frames, similar to a SQL inner join; preserve the order of the left keys.\n",
    "\n",
    "cross: creates the cartesian product from both frames, preserves the order of the left keys.\n",
    "\n",
    "New in version 1.2.0.\n",
    "\n",
    "onlabel or list\n",
    "Column or index level names to join on. These must be found in both DataFrames. If on is None and not merging on indexes then this defaults to the intersection of the columns in both DataFrames.\n",
    "\n",
    "left_onlabel or list, or array-like\n",
    "Column or index level names to join on in the left DataFrame. Can also be an array or list of arrays of the length of the left DataFrame. These arrays are treated as if they are columns.\n",
    "\n",
    "right_onlabel or list, or array-like\n",
    "Column or index level names to join on in the right DataFrame. Can also be an array or list of arrays of the length of the right DataFrame. These arrays are treated as if they are columns.\n",
    "\n",
    "left_indexbool, default False\n",
    "Use the index from the left DataFrame as the join key(s). If it is a MultiIndex, the number of keys in the other DataFrame (either the index or a number of columns) must match the number of levels.\n",
    "\n",
    "right_indexbool, default False\n",
    "Use the index from the right DataFrame as the join key. Same caveats as left_index.\n",
    "\n",
    "sortbool, default False\n",
    "Sort the join keys lexicographically in the result DataFrame. If False, the order of the join keys depends on the join type (how keyword).\n",
    "\n",
    "suffixeslist-like, default is (“_x”, “_y”)\n",
    "A length-2 sequence where each element is optionally a string indicating the suffix to add to overlapping column names in left and right respectively. Pass a value of None instead of a string to indicate that the column name from left or right should be left as-is, with no suffix. At least one of the values must not be None.\n",
    "\n",
    "copybool, default True\n",
    "If False, avoid copy if possible.\n",
    "\n",
    "indicatorbool or str, default False\n",
    "If True, adds a column to the output DataFrame called “_merge” with information on the source of each row. The column can be given a different name by providing a string argument. The column will have a Categorical type with the value of “left_only” for observations whose merge key only appears in the left DataFrame, “right_only” for observations whose merge key only appears in the right DataFrame, and “both” if the observation’s merge key is found in both DataFrames.\n",
    "\n",
    "validatestr, optional\n",
    "If specified, checks if merge is of specified type.\n",
    "\n",
    "“one_to_one” or “1:1”: check if merge keys are unique in both left and right datasets.\n",
    "\n",
    "“one_to_many” or “1:m”: check if merge keys are unique in left dataset.\n",
    "\n",
    "“many_to_one” or “m:1”: check if merge keys are unique in right dataset.\n",
    "\n",
    "“many_to_many” or “m:m”: allowed, but does not result in checks."
   ]
  },
  {
   "cell_type": "code",
   "execution_count": null,
   "metadata": {},
   "outputs": [],
   "source": [
    "\n",
    "\n",
    "df_e= pd.merge(df_d,df_c, on='Subject_id')     #marge only on column level\n",
    "\n",
    "df_e"
   ]
  },
  {
   "cell_type": "code",
   "execution_count": null,
   "metadata": {},
   "outputs": [],
   "source": [
    "raw_data ={\n",
    "        'Subject_id':['1','2','3','4','5'],\n",
    "        'First_Name':['Alex','Amy','Alice','Ayoung','Anna'],\n",
    "        'Last_Name':['Anderson','Ackerman','Ali','Aoni', 'anderson']}      #Data as dictionary \n",
    "\n",
    "df_a = pd.DataFrame(raw_data)\n",
    "\n",
    "print(df_a)\n",
    "\n",
    "\n",
    "raw_data ={\n",
    "        'Subject_id':['5','7','8','9', '10'],\n",
    "        'First_Name':['Brian','Bob','Brakha','Bimlesh','jeven'],\n",
    "        'Last_Name':['Kwok','Sum','Ali','Devi','ram']}\n",
    "\n",
    "df_b = pd.DataFrame(raw_data)\n",
    "\n",
    "print(df_b)\n",
    "\n"
   ]
  },
  {
   "cell_type": "code",
   "execution_count": null,
   "metadata": {},
   "outputs": [],
   "source": [
    "df_new = pd.merge(df_a,df_b,on='Subject_id', how='outer')   #Out Join same as in SQL join operation\n",
    "\n",
    "df_new"
   ]
  },
  {
   "cell_type": "markdown",
   "metadata": {},
   "source": [
    "# Append Operation\n",
    "Append rows of other to the end of caller, returning a new object.\n",
    "DataFrame.append(other, ignore_index=False, verify_integrity=False, sort=False)\n",
    "\n",
    "Parameters\n",
    "otherDataFrame or Series/dict-like object, or list of these\n",
    "The data to append.\n",
    "\n",
    "ignore_indexbool, default False\n",
    "If True, the resulting axis will be labeled 0, 1, …, n - 1.\n",
    "\n",
    "verify_integritybool, default False\n",
    "If True, raise ValueError on creating index with duplicates.\n",
    "\n",
    "sortbool, default False\n",
    "Sort columns if the columns of self and other are not aligned.\n",
    "\n",
    "\n",
    "\n",
    "\n"
   ]
  },
  {
   "cell_type": "code",
   "execution_count": null,
   "metadata": {},
   "outputs": [],
   "source": [
    "df = pd.DataFrame([[1, 2], [3, 4]], columns=list('AB'))  #append works only on row level\n",
    "df"
   ]
  },
  {
   "cell_type": "code",
   "execution_count": null,
   "metadata": {},
   "outputs": [],
   "source": [
    "df2 = pd.DataFrame([[5, 6], [7, 8]], columns=list('AB'))"
   ]
  },
  {
   "cell_type": "code",
   "execution_count": null,
   "metadata": {},
   "outputs": [],
   "source": [
    "df.append(df2)"
   ]
  },
  {
   "cell_type": "code",
   "execution_count": null,
   "metadata": {},
   "outputs": [],
   "source": [
    "df_a.append(df_b)"
   ]
  },
  {
   "cell_type": "code",
   "execution_count": null,
   "metadata": {},
   "outputs": [],
   "source": [
    "df_a.append(df_b,ignore_index=True)"
   ]
  },
  {
   "cell_type": "markdown",
   "metadata": {},
   "source": [
    "# Join operation in Pandas\n",
    "Next let is understand joiing in python pandas tutorial, it is yet another convenient method to combine two differently indexed into a single result dataframe, this is quite similer to the merge operation except ths joining operation will be one the index  instead of columns."
   ]
  },
  {
   "cell_type": "code",
   "execution_count": null,
   "metadata": {},
   "outputs": [],
   "source": [
    "df1 = pd.DataFrame({\"Int_rate\":[2,1,2,3], \"IND_GDP\":[50,45,45,67]}, index=[2001,2002,2003,2004])\n",
    "df2 = pd.DataFrame({\"Low_tier_HPI\":[50,65,45,20], \"Unemployment\":[2,5,6,7]}, index=[2001,2003,2004,2004])\n",
    "\n",
    "joined = df1.join(df2)\n",
    "print(joined)"
   ]
  },
  {
   "cell_type": "markdown",
   "metadata": {},
   "source": [
    "# Set Index\n",
    "\n",
    "# change the index\n"
   ]
  },
  {
   "cell_type": "code",
   "execution_count": null,
   "metadata": {},
   "outputs": [],
   "source": [
    "import pandas as pd\n",
    "\n",
    "df = pd.DataFrame({\"Day\":[1,2,3,4], \"Visitors\":[200,100,300,230], \"Bounce-Rate\":[20,45,60,10]})\n",
    "print(df)\n",
    "\n",
    "df1 = df.set_index(\"Day\")\n",
    "df1"
   ]
  },
  {
   "cell_type": "code",
   "execution_count": null,
   "metadata": {},
   "outputs": [],
   "source": [
    "#print(df)\n",
    "df.set_index(\"Day\",inplace=True)   #Change index in source dataframe itself\n",
    "print(df)"
   ]
  },
  {
   "cell_type": "code",
   "execution_count": null,
   "metadata": {},
   "outputs": [],
   "source": [
    "df = df.rename(columns={\"Visitors\":\"Users\", \"Bounce_rate\":\"Return\"}) #Rename column name from Visitors to Users and Bounce_rate to Return\n",
    "print(df)"
   ]
  },
  {
   "cell_type": "code",
   "execution_count": null,
   "metadata": {},
   "outputs": [],
   "source": [
    "df = df.rename(columns={\"Visitors\":\"Users\"})   #Rename column name from Visitors to Users\n",
    "print(df)"
   ]
  },
  {
   "cell_type": "markdown",
   "metadata": {},
   "source": [
    "# Data Analisys in Python "
   ]
  },
  {
   "cell_type": "code",
   "execution_count": null,
   "metadata": {},
   "outputs": [],
   "source": [
    "import pandas as pd\n",
    "df = pd.DataFrame({\"Day\":[1,2,3,4,5,6], \"Visitors\":[200,300,250,500,600,350], \"Bounce_rate\":[20,50,23,15,10,34]})\n",
    "\n",
    "print(df)\n",
    "\n",
    "df1 = df.set_index(\"Day\")\n",
    "print(df1)"
   ]
  },
  {
   "cell_type": "code",
   "execution_count": null,
   "metadata": {},
   "outputs": [],
   "source": [
    "df.head()"
   ]
  },
  {
   "cell_type": "code",
   "execution_count": null,
   "metadata": {},
   "outputs": [],
   "source": [
    "df.head(3)"
   ]
  },
  {
   "cell_type": "code",
   "execution_count": null,
   "metadata": {},
   "outputs": [],
   "source": [
    "df.tail()"
   ]
  },
  {
   "cell_type": "code",
   "execution_count": null,
   "metadata": {},
   "outputs": [],
   "source": [
    "df.tail(2)"
   ]
  },
  {
   "cell_type": "code",
   "execution_count": null,
   "metadata": {},
   "outputs": [],
   "source": [
    "df.sample()               #Sample give a single  row as output. it can be any random row"
   ]
  },
  {
   "cell_type": "code",
   "execution_count": null,
   "metadata": {},
   "outputs": [],
   "source": [
    "df.sample(2)               #With Parameter it give specified no of row as sample, output row can be any random row from dataset"
   ]
  },
  {
   "cell_type": "markdown",
   "metadata": {},
   "source": [
    "# I/O operation in files using pandas\n",
    "https://pandas.pydata.org/pandas-docs/stable/user_guide/io.html\n",
    "\n",
    "Open below file for Pandas IO operation program and work\n",
    "\n",
    "Pandas-IO-Operation.ipynb\n"
   ]
  },
  {
   "cell_type": "code",
   "execution_count": null,
   "metadata": {},
   "outputs": [],
   "source": []
  },
  {
   "cell_type": "code",
   "execution_count": null,
   "metadata": {},
   "outputs": [],
   "source": []
  }
 ],
 "metadata": {
  "kernelspec": {
   "display_name": "Python 3",
   "language": "python",
   "name": "python3"
  },
  "language_info": {
   "codemirror_mode": {
    "name": "ipython",
    "version": 3
   },
   "file_extension": ".py",
   "mimetype": "text/x-python",
   "name": "python",
   "nbconvert_exporter": "python",
   "pygments_lexer": "ipython3",
   "version": "3.7.6"
  }
 },
 "nbformat": 4,
 "nbformat_minor": 4
}
