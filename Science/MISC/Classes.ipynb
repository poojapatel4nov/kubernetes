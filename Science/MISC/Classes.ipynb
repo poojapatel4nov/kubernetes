{
 "cells": [
  {
   "cell_type": "code",
   "execution_count": 13,
   "metadata": {},
   "outputs": [],
   "source": [
    "def sum1(x,y):\n",
    "    return x+y"
   ]
  },
  {
   "cell_type": "code",
   "execution_count": 21,
   "metadata": {},
   "outputs": [],
   "source": [
    "#Calling funtions from main() function\n",
    "def main():\n",
    "      print(sum1(3,4))    "
   ]
  },
  {
   "cell_type": "code",
   "execution_count": 24,
   "metadata": {},
   "outputs": [
    {
     "name": "stdout",
     "output_type": "stream",
     "text": [
      "7\n"
     ]
    }
   ],
   "source": [
    "#calling funtions from main.\n",
    "if __name__=='__main__':\n",
    "    main()"
   ]
  },
  {
   "cell_type": "code",
   "execution_count": 28,
   "metadata": {},
   "outputs": [
    {
     "name": "stdout",
     "output_type": "stream",
     "text": [
      "120 80\n"
     ]
    }
   ],
   "source": [
    "#Classes and Object OOPS\n",
    "class car:\n",
    "    #attributes\n",
    "    year = 2018\n",
    "    mpg = 22\n",
    "    speed = 100\n",
    "    \n",
    "    def accelerate(self):\n",
    "        return car.speed +20\n",
    "    def breake(self):\n",
    "        return car.speed -20\n",
    "    \n",
    "    \n",
    "    \n",
    "def main():\n",
    "    c1 = car()\n",
    "    a=c1.accelerate()\n",
    "    s=c1.breake()\n",
    "    print(a,s)\n",
    "    \n",
    "    \n",
    "if __name__ == \"__main__\":\n",
    "    main()\n",
    "    \n",
    "    "
   ]
  },
  {
   "cell_type": "code",
   "execution_count": 30,
   "metadata": {},
   "outputs": [
    {
     "name": "stdout",
     "output_type": "stream",
     "text": [
      "dinesh\n",
      "AIML\n"
     ]
    }
   ],
   "source": [
    "class student:\n",
    "    def __init__(self,name,cls):\n",
    "        self.name = name\n",
    "        self.cls = cls\n",
    "        \n",
    "def main():\n",
    "    s = student('dinesh', 'AIML')\n",
    "    print(s.name)\n",
    "    print(s.cls)\n",
    "\n",
    "if __name__ == '__main__':\n",
    "    main()"
   ]
  },
  {
   "cell_type": "code",
   "execution_count": 2,
   "metadata": {},
   "outputs": [
    {
     "name": "stdout",
     "output_type": "stream",
     "text": [
      "-25\n"
     ]
    },
    {
     "ename": "TypeError",
     "evalue": "object of type 'int' has no len()",
     "output_type": "error",
     "traceback": [
      "\u001b[1;31m---------------------------------------------------------------------------\u001b[0m",
      "\u001b[1;31mTypeError\u001b[0m                                 Traceback (most recent call last)",
      "\u001b[1;32m<ipython-input-2-4347f8feca6c>\u001b[0m in \u001b[0;36m<module>\u001b[1;34m\u001b[0m\n\u001b[0;32m      5\u001b[0m     \u001b[0mli2\u001b[0m \u001b[1;33m=\u001b[0m \u001b[0mli\u001b[0m\u001b[1;33m.\u001b[0m\u001b[0mpop\u001b[0m\u001b[1;33m(\u001b[0m\u001b[0mi\u001b[0m\u001b[1;33m)\u001b[0m\u001b[1;33m\u001b[0m\u001b[1;33m\u001b[0m\u001b[0m\n\u001b[0;32m      6\u001b[0m     \u001b[0mprint\u001b[0m\u001b[1;33m(\u001b[0m\u001b[0mli2\u001b[0m\u001b[1;33m)\u001b[0m\u001b[1;33m\u001b[0m\u001b[1;33m\u001b[0m\u001b[0m\n\u001b[1;32m----> 7\u001b[1;33m     \u001b[0mle2\u001b[0m \u001b[1;33m=\u001b[0m \u001b[0mlen\u001b[0m\u001b[1;33m(\u001b[0m\u001b[0mli2\u001b[0m\u001b[1;33m)\u001b[0m\u001b[1;33m\u001b[0m\u001b[1;33m\u001b[0m\u001b[0m\n\u001b[0m\u001b[0;32m      8\u001b[0m     \u001b[1;32mfor\u001b[0m \u001b[0mj\u001b[0m \u001b[1;32min\u001b[0m \u001b[0mrange\u001b[0m\u001b[1;33m(\u001b[0m\u001b[0mle2\u001b[0m\u001b[1;33m)\u001b[0m\u001b[1;33m:\u001b[0m\u001b[1;33m\u001b[0m\u001b[1;33m\u001b[0m\u001b[0m\n\u001b[0;32m      9\u001b[0m         \u001b[0mli3\u001b[0m \u001b[1;33m=\u001b[0m \u001b[0mli2\u001b[0m\u001b[1;33m.\u001b[0m\u001b[0mpop\u001b[0m\u001b[1;33m(\u001b[0m\u001b[0mj\u001b[0m\u001b[1;33m)\u001b[0m\u001b[1;33m\u001b[0m\u001b[1;33m\u001b[0m\u001b[0m\n",
      "\u001b[1;31mTypeError\u001b[0m: object of type 'int' has no len()"
     ]
    }
   ],
   "source": [
    "li = [-25, -10, -7, -3, 2, 4, 8, 10]\n",
    "li2 = []\n",
    "le = len(li)\n",
    "for i in range(le - 1):\n",
    "    li2 = li.pop(i)\n",
    "    print(li2)\n",
    "    le2 = len(li2)\n",
    "    for j in range(le2-1):\n",
    "        li3 = li2.pop(j)\n",
    "        le3 = len(li3)\n",
    "        for k in li3:\n",
    "            sum = i + j +k\n",
    "            if sum == 0:\n",
    "                li_temp = [i,j,k]\n",
    "    \n",
    "print(li_temp)"
   ]
  },
  {
   "cell_type": "code",
   "execution_count": 23,
   "metadata": {},
   "outputs": [
    {
     "name": "stdout",
     "output_type": "stream",
     "text": [
      "[[-10, 2, 8], [-7, -3, 10], [-7, 3, 4], [-5, -3, 8], [-5, 2, 3]]\n"
     ]
    }
   ],
   "source": [
    "li = [-25, -10, -7, -3, 3, 2, -5, 4, 8, 10]\n",
    "num = sorted(li)\n",
    "#print(num)\n",
    "result = []\n",
    "i = 0\n",
    "while i < len(num) - 2:\n",
    "    j,k = i + 1,len(num) - 1\n",
    "    while j < k:\n",
    "        if num[i] + num[j] + num[k] < 0:\n",
    "            j=j+1\n",
    "        elif num[i] + num[j] + num[k] > 0:\n",
    "            k = k - 1\n",
    "        else:\n",
    "#            print(num[i])\n",
    "            result.append([num[i],num[j],num[k]])\n",
    "            j=j+1\n",
    "            k=k-1\n",
    "#            while j < k and num[j] == num[j-1]:\n",
    "#                j = j + 1\n",
    "#            while j < k and num[k] == num[k +1]:\n",
    "#                k = k - 1\n",
    "                \n",
    "    i = i+1\n",
    "#    while i <len(num) -2 and num[i] ==num[i - 1]:\n",
    "#        i = i + 1\n",
    "print(result)\n"
   ]
  },
  {
   "cell_type": "code",
   "execution_count": 27,
   "metadata": {},
   "outputs": [
    {
     "data": {
      "text/plain": [
       "8"
      ]
     },
     "execution_count": 27,
     "metadata": {},
     "output_type": "execute_result"
    }
   ],
   "source": [
    "pow1 = lambda x,n: x**n\n",
    "pow1(2,3)"
   ]
  },
  {
   "cell_type": "code",
   "execution_count": 95,
   "metadata": {},
   "outputs": [],
   "source": [
    "class power1:\n",
    "    def __init__(self,x=1,n=1):\n",
    "        self.x = x\n",
    "        self.n = n\n",
    "        \n",
    "    def pow1(self,a,b):\n",
    "        \n",
    "        return a**b\n"
   ]
  },
  {
   "cell_type": "code",
   "execution_count": 98,
   "metadata": {},
   "outputs": [
    {
     "name": "stdout",
     "output_type": "stream",
     "text": [
      "81\n"
     ]
    }
   ],
   "source": [
    "def main():\n",
    "    p = power1()\n",
    "    print(p.pow1(3,4))\n",
    "\n",
    "\n",
    "if __name__ == '__main__':\n",
    "    main()\n",
    "    "
   ]
  },
  {
   "cell_type": "code",
   "execution_count": 107,
   "metadata": {},
   "outputs": [
    {
     "name": "stdout",
     "output_type": "stream",
     "text": [
      "['reversed', 'be', 'to', 'need', 'string', 'a', 'is', 'this']\n",
      " reversed be to need string a is this\n"
     ]
    }
   ],
   "source": [
    "class reversstr:\n",
    "    def __init__(self ):\n",
    "        self.str = 'this is default string'\n",
    "        \n",
    "    def revstr(self, str):\n",
    "        self.str = str\n",
    "        li = self.str1.split(\" \")\n",
    "        li.reverse()\n",
    "        str2 = ''\n",
    "        for i in li:\n",
    "            str2 = str2+' ' + i\n",
    "\n",
    "        return str2"
   ]
  },
  {
   "cell_type": "code",
   "execution_count": null,
   "metadata": {},
   "outputs": [],
   "source": []
  }
 ],
 "metadata": {
  "kernelspec": {
   "display_name": "Python 3",
   "language": "python",
   "name": "python3"
  },
  "language_info": {
   "codemirror_mode": {
    "name": "ipython",
    "version": 3
   },
   "file_extension": ".py",
   "mimetype": "text/x-python",
   "name": "python",
   "nbconvert_exporter": "python",
   "pygments_lexer": "ipython3",
   "version": "3.7.6"
  }
 },
 "nbformat": 4,
 "nbformat_minor": 4
}
