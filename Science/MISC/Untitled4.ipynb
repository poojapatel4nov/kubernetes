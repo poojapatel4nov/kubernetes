{
 "cells": [
  {
   "cell_type": "code",
   "execution_count": 2,
   "metadata": {},
   "outputs": [],
   "source": [
    "class company:\n",
    "    revenue = 80000\n",
    "    \n",
    "    def __init__(self, name, location, number_of_emp):\n",
    "        self.name = name\n",
    "        self.location = location\n",
    "        self.number_of_employee = number_of_emp\n",
    "        "
   ]
  },
  {
   "cell_type": "code",
   "execution_count": 5,
   "metadata": {},
   "outputs": [
    {
     "name": "stdout",
     "output_type": "stream",
     "text": [
      "george\n",
      "London\n",
      "400\n",
      "80000\n"
     ]
    }
   ],
   "source": [
    "c = company('george', 'London', 400)\n",
    "\n",
    "print(c.name)\n",
    "print(c.location)\n",
    "print(c.number_of_employee)\n",
    "print(c.revenue)\n"
   ]
  },
  {
   "cell_type": "code",
   "execution_count": 9,
   "metadata": {},
   "outputs": [],
   "source": [
    "class car:\n",
    "    def __init__(self, company, color):\n",
    "        self.company = company\n",
    "        self.color = color\n",
    "    \n",
    "    def display(self):\n",
    "        print('this is a ', self.color, self.company)\n",
    "        "
   ]
  },
  {
   "cell_type": "code",
   "execution_count": 10,
   "metadata": {},
   "outputs": [],
   "source": [
    "def main():\n",
    "    c=car(\"Ferrari\", \"Red\")\n",
    "    c.display()"
   ]
  },
  {
   "cell_type": "code",
   "execution_count": null,
   "metadata": {},
   "outputs": [],
   "source": []
  }
 ],
 "metadata": {
  "kernelspec": {
   "display_name": "Python 3",
   "language": "python",
   "name": "python3"
  },
  "language_info": {
   "codemirror_mode": {
    "name": "ipython",
    "version": 3
   },
   "file_extension": ".py",
   "mimetype": "text/x-python",
   "name": "python",
   "nbconvert_exporter": "python",
   "pygments_lexer": "ipython3",
   "version": "3.7.6"
  }
 },
 "nbformat": 4,
 "nbformat_minor": 4
}
