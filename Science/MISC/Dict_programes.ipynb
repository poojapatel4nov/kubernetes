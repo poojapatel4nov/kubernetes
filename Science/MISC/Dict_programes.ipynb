{
 "cells": [
  {
   "cell_type": "code",
   "execution_count": 24,
   "metadata": {},
   "outputs": [
    {
     "name": "stdout",
     "output_type": "stream",
     "text": [
      "{'Naresh': 18, 'Dinesh': 25, 'Ramesh': 45, 'Suresh': 48}\n"
     ]
    }
   ],
   "source": [
    "#Sort Dictionry by values\n",
    "from collections import OrderedDict\n",
    "dict1 = {'Dinesh':25,'Ramesh':45,'Suresh':48,'Naresh':18}\n",
    "dict2 = {x:dict1[x] for x in sorted(dict1,key=dict1.get)}\n",
    "print(dict2)"
   ]
  },
  {
   "cell_type": "code",
   "execution_count": 18,
   "metadata": {},
   "outputs": [
    {
     "name": "stdout",
     "output_type": "stream",
     "text": [
      "{'Dinesh': 25, 'Naresh': 18, 'Ramesh': 45, 'Suresh': 48}\n"
     ]
    }
   ],
   "source": [
    "#Sort Dictionry by values\n",
    "import operator\n",
    "dict1 = {'Dinesh':25,'Ramesh':45,'Suresh':48,'Naresh':18}\n",
    "sorted_tuples = sorted(dict1.items(), key=operator.itemgetter(1))\n",
    "dict2 = {k:v for k, v in sorted_tuples}\n",
    "print(dict2)"
   ]
  },
  {
   "cell_type": "code",
   "execution_count": 20,
   "metadata": {},
   "outputs": [
    {
     "name": "stdout",
     "output_type": "stream",
     "text": [
      "[('Naresh', 18), ('Dinesh', 25), ('Ramesh', 45), ('Suresh', 48)]\n"
     ]
    }
   ],
   "source": [
    "dict1 = {'Dinesh':25,'Ramesh':45,'Suresh':48,'Naresh':18}\n",
    "tuple1 = sorted(dict1.items(), key=operator.itemgetter(1))\n",
    "print(tuple1)"
   ]
  },
  {
   "cell_type": "code",
   "execution_count": 26,
   "metadata": {},
   "outputs": [
    {
     "name": "stdout",
     "output_type": "stream",
     "text": [
      "{'Dinesh': 25, 'Ramesh': 45, 'Suresh': 48, 'Naresh': 18, 'Raj': 22}\n"
     ]
    }
   ],
   "source": [
    "#add a new key:value in a dict.\n",
    "dict1={'Dinesh':25,'Ramesh':45,'Suresh':48,'Naresh':18}\n",
    "dict1['Raj']=22\n",
    "print(dict1)"
   ]
  },
  {
   "cell_type": "code",
   "execution_count": 29,
   "metadata": {},
   "outputs": [
    {
     "name": "stdout",
     "output_type": "stream",
     "text": [
      "{1: 11, 2: 22, 3: 33, 4: 44, 5: 55, 6: 66}\n"
     ]
    }
   ],
   "source": [
    "dict1 = {1:11,2:22}\n",
    "dict2 = {3:33,4:44}\n",
    "dict4 = {5:55,6:66}\n",
    "dict3 = {**dict1,**dict2,**dict4}\n",
    "print(dict3)"
   ]
  },
  {
   "cell_type": "code",
   "execution_count": 36,
   "metadata": {},
   "outputs": [
    {
     "name": "stdout",
     "output_type": "stream",
     "text": [
      "{1: 10, 2: 20, 3: 30, 4: 40, 5: 50, 6: 60}\n"
     ]
    }
   ],
   "source": [
    "dic1={1:10, 2:20}\n",
    "dic2={3:30, 4:40}\n",
    "dic3={5:50,6:60}\n",
    "for d in (dic1,dic2,dic3): dic4.update(d)\n",
    "\n",
    "print(dic4)"
   ]
  },
  {
   "cell_type": "code",
   "execution_count": 56,
   "metadata": {},
   "outputs": [
    {
     "name": "stdout",
     "output_type": "stream",
     "text": [
      "Key already exist in dictionary, key:values are 2:20\n"
     ]
    }
   ],
   "source": [
    "#Check if key present in dictionary \n",
    "dict1 = {1: 10, 2: 20, 3: 30, 4: 40, 5: 50, 6: 60}\n",
    "val = 2\n",
    "\n",
    "for i in dict1:\n",
    "    if i == val:\n",
    "        print('Key already exist in dictionary, key:values are {}:{}' .format(i,dict1[i]))\n",
    "        \n",
    "#print(dic_list)"
   ]
  },
  {
   "cell_type": "code",
   "execution_count": 52,
   "metadata": {},
   "outputs": [
    {
     "name": "stdout",
     "output_type": "stream",
     "text": [
      "Key already exist in dictionary, key:values are 4:40\n"
     ]
    }
   ],
   "source": [
    "#check if key present in dictionary \n",
    "dict1 = {1: 10, 2: 20, 3: 30, 4: 40, 5: 50, 6: 60}\n",
    "x=4\n",
    "if x in dict1:\n",
    "    print('Key already exist in dictionary, key:values are {}:{}' .format(x,dict1[x]))\n",
    "    "
   ]
  },
  {
   "cell_type": "code",
   "execution_count": 55,
   "metadata": {},
   "outputs": [
    {
     "name": "stdout",
     "output_type": "stream",
     "text": [
      "1 : 10\n",
      "2 : 20\n",
      "3 : 30\n",
      "4 : 40\n",
      "5 : 50\n",
      "6 : 60\n"
     ]
    }
   ],
   "source": [
    "dict1 = {1: 10, 2: 20, 3: 30, 4: 40, 5: 50, 6: 60}\n",
    "for i in dict1:\n",
    "    print(i,\":\",dict1[i])\n",
    "    "
   ]
  },
  {
   "cell_type": "code",
   "execution_count": 62,
   "metadata": {},
   "outputs": [
    {
     "name": "stdout",
     "output_type": "stream",
     "text": [
      "{1: 1, 2: 4, 3: 9, 4: 16, 5: 25}\n"
     ]
    }
   ],
   "source": [
    "#Write a Python script to generate and print a dictionary that contains a number (between 1 and n) in the form (x, x*x)\n",
    "dict1= {}\n",
    "n=5\n",
    "for i in range(1,n+1):\n",
    "    dict1[i]=i*i\n",
    "\n",
    "print(dict1)"
   ]
  },
  {
   "cell_type": "code",
   "execution_count": 63,
   "metadata": {},
   "outputs": [
    {
     "name": "stdout",
     "output_type": "stream",
     "text": [
      "55\n"
     ]
    }
   ],
   "source": [
    "dict1={1: 1, 2: 4, 3: 9, 4: 16, 5: 25}\n",
    "print(sum(dict1.values()))\n",
    "print()"
   ]
  },
  {
   "cell_type": "code",
   "execution_count": 70,
   "metadata": {},
   "outputs": [
    {
     "name": "stdout",
     "output_type": "stream",
     "text": [
      "dict_values([1, 4, 9])\n",
      "36\n"
     ]
    }
   ],
   "source": [
    "dict1={1: 1, 2: 4, 3: 9}\n",
    "dic_list = dict1.values()\n",
    "print(dic_list)\n",
    "v=1\n",
    "for i in dic_list:\n",
    "    v=v*i\n",
    "\n",
    "print(v)"
   ]
  },
  {
   "cell_type": "code",
   "execution_count": 72,
   "metadata": {},
   "outputs": [
    {
     "name": "stdout",
     "output_type": "stream",
     "text": [
      "[dict_values([1, 4, 9])]\n"
     ]
    }
   ],
   "source": [
    "import numpy as nu\n",
    "dict1={1: 1, 2: 4, 3: 9}\n",
    "dic_list = dict1.values()\n",
    "\n",
    "\n",
    "print(dic_list)"
   ]
  },
  {
   "cell_type": "code",
   "execution_count": 76,
   "metadata": {},
   "outputs": [
    {
     "name": "stdout",
     "output_type": "stream",
     "text": [
      "{2: 4, 3: 9, 4: 16}\n"
     ]
    }
   ],
   "source": [
    "#Remove a key:value from dictionery \n",
    "dict1={1:1, 2:4, 3:9, 4:16}\n",
    "dict1.pop(1)\n",
    "print(dict1)"
   ]
  },
  {
   "cell_type": "code",
   "execution_count": 80,
   "metadata": {},
   "outputs": [
    {
     "name": "stdout",
     "output_type": "stream",
     "text": [
      "{1: 11, 2: 22, 3: 33, 4: 44, 5: 55, 6: 66}\n"
     ]
    }
   ],
   "source": [
    "list1 = [1,2,3,4,5,6]\n",
    "list2 = [11,22,33,44,55,66]\n",
    "dict1 = dict(zip(list1,list2))\n",
    "print(dict1)"
   ]
  },
  {
   "cell_type": "code",
   "execution_count": 82,
   "metadata": {},
   "outputs": [
    {
     "name": "stdout",
     "output_type": "stream",
     "text": [
      "Counter({2: 50, 3: 40, 1: 20, 4: 10})\n"
     ]
    }
   ],
   "source": [
    "from collections import Counter \n",
    "dict1={1:20,2:30,3:10}\n",
    "dict2={2:20,3:30,4:10}\n",
    "d = Counter(dict1) + Counter(dict2)\n",
    "print(d)\n"
   ]
  },
  {
   "cell_type": "code",
   "execution_count": 110,
   "metadata": {},
   "outputs": [
    {
     "name": "stdout",
     "output_type": "stream",
     "text": [
      "cx\n",
      "cy\n",
      "dx\n",
      "dy\n"
     ]
    }
   ],
   "source": [
    "dict1= {'1':['a','b'], '2':['c','d'], '3':['x','y']}\n",
    "i =0\n",
    "list1 = []\n",
    "for d in dict1:\n",
    "   list1.append(dict1[d])\n",
    "\n",
    "for i in range(len(list1) - 1):\n",
    "    a = list1[i]\n",
    "    b = list1[i+1]\n",
    "    c = [p+q for p in a for q in b]\n",
    "    \n",
    "\n",
    "for i in c:\n",
    "    print (i)"
   ]
  },
  {
   "cell_type": "code",
   "execution_count": 111,
   "metadata": {},
   "outputs": [
    {
     "name": "stdout",
     "output_type": "stream",
     "text": [
      "acx\n",
      "acy\n",
      "adx\n",
      "ady\n",
      "bcx\n",
      "bcy\n",
      "bdx\n",
      "bdy\n"
     ]
    }
   ],
   "source": [
    "import itertools      \n",
    "d ={'1':['a','b'], '2':['c','d'], '3':['x','y']}\n",
    "for combo in itertools.product(*[d[k] for k in sorted(d.keys())]):\n",
    "    print(''.join(combo))\n",
    "    "
   ]
  },
  {
   "cell_type": "code",
   "execution_count": 112,
   "metadata": {},
   "outputs": [
    {
     "ename": "NameError",
     "evalue": "name 'rendom' is not defined",
     "output_type": "error",
     "traceback": [
      "\u001b[1;31m---------------------------------------------------------------------------\u001b[0m",
      "\u001b[1;31mNameError\u001b[0m                                 Traceback (most recent call last)",
      "\u001b[1;32m<ipython-input-112-cc86c4db63b4>\u001b[0m in \u001b[0;36m<module>\u001b[1;34m\u001b[0m\n\u001b[1;32m----> 1\u001b[1;33m \u001b[0mrendom\u001b[0m\u001b[1;33m(\u001b[0m\u001b[1;33m)\u001b[0m\u001b[1;33m\u001b[0m\u001b[1;33m\u001b[0m\u001b[0m\n\u001b[0m",
      "\u001b[1;31mNameError\u001b[0m: name 'rendom' is not defined"
     ]
    }
   ],
   "source": [
    "rendom()"
   ]
  },
  {
   "cell_type": "code",
   "execution_count": 115,
   "metadata": {},
   "outputs": [
    {
     "name": "stdout",
     "output_type": "stream",
     "text": [
      "[1, 2, 4, 8, 16, 32, 64, 128, 256, 512]\n"
     ]
    }
   ],
   "source": [
    "n = 10\n",
    "result = list(map(lambda x:2**x,range(n)))\n",
    "print(result)"
   ]
  },
  {
   "cell_type": "code",
   "execution_count": null,
   "metadata": {},
   "outputs": [],
   "source": []
  }
 ],
 "metadata": {
  "kernelspec": {
   "display_name": "Python 3",
   "language": "python",
   "name": "python3"
  },
  "language_info": {
   "codemirror_mode": {
    "name": "ipython",
    "version": 3
   },
   "file_extension": ".py",
   "mimetype": "text/x-python",
   "name": "python",
   "nbconvert_exporter": "python",
   "pygments_lexer": "ipython3",
   "version": "3.7.6"
  }
 },
 "nbformat": 4,
 "nbformat_minor": 4
}
