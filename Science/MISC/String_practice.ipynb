{
 "cells": [
  {
   "cell_type": "code",
   "execution_count": 4,
   "metadata": {},
   "outputs": [
    {
     "name": "stdout",
     "output_type": "stream",
     "text": [
      "9\n"
     ]
    }
   ],
   "source": [
    "str1='my string'\n",
    "print(len(str1))"
   ]
  },
  {
   "cell_type": "code",
   "execution_count": 10,
   "metadata": {},
   "outputs": [
    {
     "name": "stdout",
     "output_type": "stream",
     "text": [
      "11\n"
     ]
    }
   ],
   "source": [
    "#Count Alphabate in a string\n",
    "str1='dineshpatel712345'\n",
    "count = 0\n",
    "for i in str1:\n",
    "    if (i.isalpha()):\n",
    "        count =count +1\n",
    "\n",
    "print(count)\n",
    "        \n",
    "        "
   ]
  },
  {
   "cell_type": "code",
   "execution_count": 18,
   "metadata": {},
   "outputs": [
    {
     "name": "stdout",
     "output_type": "stream",
     "text": [
      "{'S': 1, 'a': 3, 'n': 1, 'v': 1, 'i': 3, ' ': 3, 'N': 1, 'u': 1, 'g': 1, 't': 1, 'h': 2, 'G': 1, 'r': 1, 'l': 1}\n"
     ]
    }
   ],
   "source": [
    "#Count Alphabate frequency in a string\n",
    "str1='Sanvi Naugth Girl hai'\n",
    "dic1={}\n",
    "str2=''\n",
    "for i in str1:\n",
    "    if i in str2:\n",
    "        dic1[i]=dic1[i]+1\n",
    "    else:\n",
    "        dic1[i]=1\n",
    "    str2 = str2 + i\n",
    "\n",
    "print(dic1)\n",
    "        \n"
   ]
  },
  {
   "cell_type": "code",
   "execution_count": 27,
   "metadata": {},
   "outputs": [
    {
     "name": "stdout",
     "output_type": "stream",
     "text": [
      "Diel\n"
     ]
    }
   ],
   "source": [
    "#Convert a string in to list\n",
    "str1 = 'Dinesh Patel'\n",
    "str2 = ''\n",
    "li=[]\n",
    "for i in str1:\n",
    "    li.append(i)\n",
    "\n",
    "if len(str1) <=1:\n",
    "    print(\"Empty string\",str2)\n",
    "else:\n",
    "    str2 =li[0]+li[1]+li[-2]+li[-1]\n",
    "    \n",
    "print(str2)\n"
   ]
  },
  {
   "cell_type": "code",
   "execution_count": 34,
   "metadata": {},
   "outputs": [
    {
     "name": "stdout",
     "output_type": "stream",
     "text": [
      "resta$t\n"
     ]
    }
   ],
   "source": [
    "#Write a Python program to get a string from a given string where all occurrences of its first char have been changed to '$', except the first char itself\n",
    "str1='restart'\n",
    "str2= ''\n",
    "for i in str1:\n",
    "    if  str2 =='':\n",
    "        str2 = str2 + i\n",
    "    elif i == str2[0]:\n",
    "        str2=str2+'$'\n",
    "    else:\n",
    "        str2=str2+ i\n",
    "print(str2)\n"
   ]
  },
  {
   "cell_type": "code",
   "execution_count": 36,
   "metadata": {},
   "outputs": [
    {
     "name": "stdout",
     "output_type": "stream",
     "text": [
      "resta$t\n"
     ]
    }
   ],
   "source": [
    "#Write a Python program to get a string from a given string where all occurrences of its first char have been changed to '$', except the first char itself\n",
    "str1='restart'\n",
    "char = str1[0]\n",
    "str2 = str1.replace(char,'$')\n",
    "str2 = char +str2[1:]\n",
    "\n",
    "print(str2)\n"
   ]
  },
  {
   "cell_type": "code",
   "execution_count": 39,
   "metadata": {},
   "outputs": [
    {
     "name": "stdout",
     "output_type": "stream",
     "text": [
      "xyc abz\n"
     ]
    }
   ],
   "source": [
    "#Write a Python program to get a single string from two given strings, separated by a space and swap the first two characters of each string\n",
    "str1='abc'\n",
    "str2='xyz'\n",
    "temp1=str1[0:2]\n",
    "temp2=str2[0:2]\n",
    "str1=temp2 + str1[2:]\n",
    "str2=temp1 + str2[2:]\n",
    "print(str1+\" \"+str2)"
   ]
  },
  {
   "cell_type": "code",
   "execution_count": 46,
   "metadata": {},
   "outputs": [
    {
     "name": "stdout",
     "output_type": "stream",
     "text": [
      "Dnsptl\n"
     ]
    }
   ],
   "source": [
    "#Write a Python program to remove the characters which have odd index values of a given string\n",
    "str1='Dineshpatel'\n",
    "count= len(str1)\n",
    "str2=''\n",
    "for i in range(count):\n",
    "    if i%2 == 0:\n",
    "       str2 = str2 + str1[i]\n",
    "\n",
    "print(str2)\n",
    "    "
   ]
  },
  {
   "cell_type": "code",
   "execution_count": 47,
   "metadata": {},
   "outputs": [
    {
     "name": "stdout",
     "output_type": "stream",
     "text": [
      "enter string saperated by white spaceapple banana orange banana apple\n",
      "{'apple', 'orange', 'banana'}\n"
     ]
    }
   ],
   "source": [
    "#print uniq word of a line\n",
    "str1=input(\"enter string saperated by white space\")\n",
    "li = list(str1.split(\" \"))\n",
    "x = set()\n",
    "for i in li:\n",
    "    x.add(i)\n",
    "\n",
    "print(x)\n",
    "    "
   ]
  },
  {
   "cell_type": "code",
   "execution_count": 66,
   "metadata": {},
   "outputs": [
    {
     "name": "stdout",
     "output_type": "stream",
     "text": [
      "['dinesh', 'hemakshi', 'pooja', 'sanvi']\n"
     ]
    }
   ],
   "source": [
    "str1='pooja,pooja,hemakshi,hemakshi,sanvi,sanvi,dinesh,dinesh'\n",
    "li=list(str1.split(\",\"))\n",
    "li.sort()\n",
    "li2 = []\n",
    "for i in li:\n",
    "    if i in li2:\n",
    "        continue\n",
    "    else:\n",
    "        li2.append(i)\n",
    "\n",
    "print(li2)"
   ]
  },
  {
   "cell_type": "raw",
   "metadata": {},
   "source": []
  },
  {
   "cell_type": "code",
   "execution_count": 9,
   "metadata": {},
   "outputs": [
    {
     "data": {
      "text/plain": [
       "'{{Dinesh}}'"
      ]
     },
     "execution_count": 9,
     "metadata": {},
     "output_type": "execute_result"
    }
   ],
   "source": [
    "#Write a program to insert a string in middle of a string\n",
    "def insert_string_middle(str, word):\n",
    "    str2 = str[:2] + word + str[2:]\n",
    "    return str2\n",
    "\n",
    "insert_string_middle(\"{{}}\", \"Dinesh\")\n",
    "\n",
    "    \n",
    "    \n"
   ]
  },
  {
   "cell_type": "code",
   "execution_count": 10,
   "metadata": {},
   "outputs": [
    {
     "name": "stdout",
     "output_type": "stream",
     "text": [
      "\n",
      "\n",
      "Python is a widely used high-level, general-purpose, interpreted,\n",
      "dynamic programming language. Its design philosophy emphasizes\n",
      "code readability, and its syntax allows programmers to express\n",
      "concepts in fewer lines of code than possible in languages such\n",
      "as C++ or Java.\n",
      "\n",
      "\n"
     ]
    }
   ],
   "source": [
    "#Write a Python program to remove existing indentation from all of the lines in a given text\n",
    "import textwrap\n",
    "sample_text = '''\n",
    "    Python is a widely used high-level, general-purpose, interpreted,\n",
    "    dynamic programming language. Its design philosophy emphasizes\n",
    "    code readability, and its syntax allows programmers to express\n",
    "    concepts in fewer lines of code than possible in languages such\n",
    "    as C++ or Java.\n",
    "    '''\n",
    "text_without_Indentation = textwrap.dedent(sample_text)\n",
    "print()\n",
    "print(text_without_Indentation )\n",
    "print()"
   ]
  },
  {
   "cell_type": "code",
   "execution_count": 11,
   "metadata": {},
   "outputs": [
    {
     "name": "stdout",
     "output_type": "stream",
     "text": [
      "\n",
      ">  Python is a widely used high-level, general-\n",
      "> purpose, interpreted, dynamic programming\n",
      "> language. Its design philosophy emphasizes code\n",
      "> readability, and its syntax allows programmers to\n",
      "> express concepts in fewer lines of code than\n",
      "> possible in languages such as C++ or Java.\n",
      "\n"
     ]
    }
   ],
   "source": [
    "#Write a Python program to add a prefix text to all of the lines in a string.\n",
    "import textwrap\n",
    "sample_text ='''\n",
    "    Python is a widely used high-level, general-purpose, interpreted,\n",
    "    dynamic programming language. Its design philosophy emphasizes\n",
    "    code readability, and its syntax allows programmers to express\n",
    "    concepts in fewer lines of code than possible in languages such\n",
    "    as C++ or Java.\n",
    "    '''\n",
    "text_without_Indentation = textwrap.dedent(sample_text)\n",
    "wrapped = textwrap.fill(text_without_Indentation, width=50)\n",
    "#wrapped += '\\n\\nSecond paragraph after a blank line.'\n",
    "final_result = textwrap.indent(wrapped, '> ')\n",
    "print()\n",
    "print(final_result)\n",
    "print()"
   ]
  },
  {
   "cell_type": "code",
   "execution_count": null,
   "metadata": {},
   "outputs": [],
   "source": [
    "#Write a Python program to set the indentation of the first line.\n",
    "import textwrap\n",
    "sample_text ='''\n",
    "Python is a widely used high-level, general-purpose, interpreted, dynamic\n",
    "programming language. Its design philosophy emphasizes code readability,\n",
    "and its syntax allows programmers to express concepts in fewer lines of\n",
    "code than possible in languages such as C++ or Java.\n",
    "    '''\n",
    "\n",
    "text1 =  textwrap.dedent(sample_text).strip()\n",
    "print()\n",
    "print(textwrap.fill(text1,\n",
    "                    initial_indent='',\n",
    "                    subsequent_indent=' ' * 4,\n",
    "                    width=80,\n",
    "                    ))\n",
    "print()"
   ]
  },
  {
   "cell_type": "code",
   "execution_count": 12,
   "metadata": {},
   "outputs": [
    {
     "name": "stdout",
     "output_type": "stream",
     "text": [
      "\n",
      "Original Number:  3.1415926\n",
      "Formatted Number with sign: +3.14\n",
      "Original Number:  -12.9999\n",
      "Formatted Number with sign: -13.00\n",
      "\n"
     ]
    }
   ],
   "source": [
    "#Write a Python program to print the following floating numbers upto 2 decimal places with a sign.\n",
    "x = 3.1415926\n",
    "y = -12.9999\n",
    "print(\"\\nOriginal Number: \", x)\n",
    "print(\"Formatted Number with sign: \"+\"{:+.2f}\".format(x));\n",
    "print(\"Original Number: \", y)\n",
    "print(\"Formatted Number with sign: \"+\"{:+.2f}\".format(y));\n",
    "print()"
   ]
  },
  {
   "cell_type": "code",
   "execution_count": 15,
   "metadata": {},
   "outputs": [
    {
     "name": "stdout",
     "output_type": "stream",
     "text": [
      "\n",
      "2\n",
      "\n"
     ]
    }
   ],
   "source": [
    "#Write a Python program to count occurrences of a substring in a string\n",
    "str1 = 'the quick brown fox jumps over the lazy dog.'\n",
    "print()\n",
    "print(str1.count(\"the\"))\n",
    "print()"
   ]
  },
  {
   "cell_type": "code",
   "execution_count": 26,
   "metadata": {},
   "outputs": [
    {
     "name": "stdout",
     "output_type": "stream",
     "text": [
      "t h s   s     s t r n g   w h c h   w l l   b   s t r p p d   n   v w l\n"
     ]
    }
   ],
   "source": [
    "str1 = \"this is a string which will be stripped on vowel\"\n",
    "str2 = 'aeiou'\n",
    "a=\" \".join(a for a in str1 if a not in str2)\n",
    "print(a)\n",
    "\n",
    "        "
   ]
  },
  {
   "cell_type": "code",
   "execution_count": 32,
   "metadata": {},
   "outputs": [
    {
     "name": "stdout",
     "output_type": "stream",
     "text": [
      "defaultdict(<class 'int'>, {'t': 2, 'h': 1, 'i': 3, 's': 3, 'r': 1, 'n': 1, 'g': 1})\n"
     ]
    }
   ],
   "source": [
    "from collections import defaultdict\n",
    "str1 = 'thisisstring'\n",
    "d = defaultdict(int)\n",
    "for c in str1:\n",
    "    d[c] += 1\n",
    "    \n",
    "print(d)"
   ]
  },
  {
   "cell_type": "code",
   "execution_count": null,
   "metadata": {},
   "outputs": [],
   "source": []
  }
 ],
 "metadata": {
  "kernelspec": {
   "display_name": "Python 3",
   "language": "python",
   "name": "python3"
  },
  "language_info": {
   "codemirror_mode": {
    "name": "ipython",
    "version": 3
   },
   "file_extension": ".py",
   "mimetype": "text/x-python",
   "name": "python",
   "nbconvert_exporter": "python",
   "pygments_lexer": "ipython3",
   "version": "3.7.6"
  }
 },
 "nbformat": 4,
 "nbformat_minor": 4
}
