{
 "cells": [
  {
   "cell_type": "code",
   "execution_count": 24,
   "metadata": {},
   "outputs": [
    {
     "name": "stdout",
     "output_type": "stream",
     "text": [
      "[[0.0, 0.0, 0.0, 0.0], [0.0, 0.0, 0.0, 0.0], [0.0, 0.0, 0.0, 0.0], [0.0, 0.0, 0.0, 0.0]]\n"
     ]
    }
   ],
   "source": [
    "import mysql.connector\n",
    "from decimal import *\n",
    "import csv\n",
    "\n",
    "heap_item = {77363:'287332-bvos-app1.bvonesource.com',73064:'287333-bvos-app2.bvonesource.com',73162:'889925-was1.bvonesource.com',73260:'889926-was2.bvonesource.com',81037:'1069313-prod-alf-content1',80827:'1069315-prod-alf-content2',81044:'1069312-prod-alf-index1',80774:'1069314-prod-alf-index2'}\n",
    "cpu_item = {73031:'287332-bvos-app1.bvonesource.com',73129:'287333-bvos-app2.bvonesource.com',73227:'889925-was1.bvonesource.com',73325:'889926-was2.bvonesource.com',80463:'1069313-prod-alf-content1',82749:'1069315-prod-alf-content2',80534:'1069312-prod-alf-index1',80605:'1069314-prod-alf-index2'}\n",
    "solr_item = {80501:'1069312-prod-alf-index1-Workspace-0',81937:'1069312-prod-alf-index1-Workspace-1',80572:'1069314-prod-alf-index2-Workspace-0',81938:'1069314-prod-alf-index2-Workspace-1'}\n",
    "db_item = {49699:'A1036338-bvos-ora3.bvonesource.com',49999:'A1036343-bvos-ora4.bvonesource.com'}\n",
    "db_pool_item = {86417:'BVOS',86415:'ECOM',86414:'NEW_BOOKING',86416:'PTF',86418:'RSM'}\n",
    "tb1 = 'zabbix.history_uint'\n",
    "tb2 = 'zabbix.history'\n",
    "zb_db = '10.2.3.9'\n",
    "user = 'dinesh'\n",
    "pass1 = 'Pass@1234'\n",
    "\n",
    "\n",
    "def fetch_data(item,tb,li):\n",
    "    zbdb = mysql.connector.connect(\n",
    "      host=\"10.2.3.9\",\n",
    "      user=\"dinesh\",\n",
    "      password=\"Pass1234\"\n",
    "    )\n",
    "    usage = []\n",
    "    heap_usage = []\n",
    "    for i in item:\n",
    "        c = zbdb.cursor()\n",
    "        c.execute(\"\"\"select min(value), avg(value), max(value) from (SELECT value FROM zabbix.history_uint where itemid = %s order by clock desc limit %s) sub\"\"\",(i,li,))\n",
    "        r = c.fetchall()\n",
    "        c.execute(\"\"\"SELECT  value FROM zabbix.history_uint where itemid = %s order by clock desc limit 1\"\"\", (i,))\n",
    "        lastvalue = c.fetchall()\n",
    "        usage = [round(r[0][0]/(1024*1024*1024),2),round(float(r[0][1]/(1024*1024*1024)),2),round(r[0][2]/(1024*1024*1024),2),round(lastvalue[0][0]/(1024*1024*1024),2)]\n",
    "        heap_usage.append(usage)\n",
    "    return heap_usage\n",
    "def calc_per(raw_data):\n",
    "    heap_item1 = []\n",
    "    heap_usage = raw_data\n",
    "    for i in range(len(heap_usage)):\n",
    "        list2 = []\n",
    "        if i < 4:\n",
    "            for j in range(len(heap_usage[i])):\n",
    "                list2.append(round(heap_usage[i][j]*100/14,2))\n",
    "        elif i>=4 and i<=5:\n",
    "             for j in range(len(heap_usage[i])):\n",
    "                list2.append(round(heap_usage[i][j]*100/8,2))\n",
    "        else:\n",
    "            for j in range(len(heap_usage[i])):\n",
    "                list2.append(round(heap_usage[i][j]*100/12,2))\n",
    "            \n",
    "        heap_item1.append(list2)\n",
    "    return heap_item1\n",
    "\n",
    "def con_str(pr_heap):\n",
    "    heap =[]\n",
    "    for i in range(len(pr_heap)):\n",
    "        list1 = []\n",
    "        list2 = pr_heap[i]\n",
    "        list1 = [str(i)+'%' for i in list2]\n",
    "        heap.append(list1)\n",
    "    return heap\n",
    "\n",
    "bvos_heap = fetch_data(heap_item,tb1,36)\n",
    "#print(bvos_heap)\n",
    "per_heap = calc_per(bvos_heap)\n",
    "app_heap = con_str(per_heap)\n",
    "solr_pending_doc = fetch_data(solr_item,tb1,180)\n",
    "print(solr_pending_doc)"
   ]
  },
  {
   "cell_type": "code",
   "execution_count": 23,
   "metadata": {},
   "outputs": [
    {
     "name": "stdout",
     "output_type": "stream",
     "text": [
      "[12, 24, 36, 48, 60, 72, 84, 96, 108, 120]\n"
     ]
    }
   ],
   "source": [
    "list1=[i*12 for i in range(1,11) ]\n",
    "\n",
    "print(list1)"
   ]
  },
  {
   "cell_type": "code",
   "execution_count": null,
   "metadata": {},
   "outputs": [],
   "source": []
  }
 ],
 "metadata": {
  "kernelspec": {
   "display_name": "Python 3",
   "language": "python",
   "name": "python3"
  },
  "language_info": {
   "codemirror_mode": {
    "name": "ipython",
    "version": 3
   },
   "file_extension": ".py",
   "mimetype": "text/x-python",
   "name": "python",
   "nbconvert_exporter": "python",
   "pygments_lexer": "ipython3",
   "version": "3.7.6"
  }
 },
 "nbformat": 4,
 "nbformat_minor": 4
}
