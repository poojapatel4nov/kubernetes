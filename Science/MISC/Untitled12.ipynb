{
 "cells": [
  {
   "cell_type": "code",
   "execution_count": null,
   "metadata": {},
   "outputs": [],
   "source": [
    "import time\n",
    "\n",
    "date_time = '29.08.2011 11:05:02'\n",
    "pattern = '%d.%m.%Y %H:%M:%S'\n",
    "epoch = int(time.mktime(time.strptime(date_time, pattern)))\n",
    "print epoch"
   ]
  },
  {
   "cell_type": "code",
   "execution_count": 25,
   "metadata": {},
   "outputs": [
    {
     "name": "stdout",
     "output_type": "stream",
     "text": [
      "1609873063 1609883863\n"
     ]
    }
   ],
   "source": [
    "from datetime import datetime,timedelta\n",
    "import time\n",
    "import pytz\n",
    "pattern = '%d.%m.%Y %H:%M:%S'\n",
    "tz = pytz.timezone('Asia/Hong_Kong')\n",
    "current_datetime = datetime.now(tz)\n",
    "cd = current_datetime.strftime('%d.%m.%Y %H:%M:%S')\n",
    "threehourback_date = datetime.now(tz) - timedelta(hours =3)\n",
    "tb = threehourback_date.strftime('%d.%m.%Y %H:%M:%S')\n",
    "current_epoc=int(time.mktime(time.strptime(cd,pattern)))\n",
    "threehourback_epoc=int(time.mktime(time.strptime(tb,pattern)))\n",
    "\n",
    "print(threehourback_epoc,current_epoc )"
   ]
  },
  {
   "cell_type": "code",
   "execution_count": 21,
   "metadata": {},
   "outputs": [
    {
     "name": "stdout",
     "output_type": "stream",
     "text": [
      "time: 06.01.2021 03:25:09\n"
     ]
    }
   ],
   "source": [
    "from datetime import datetime\n",
    "\n",
    "# current date and time\n",
    "tz = pytz.timezone('Asia/Hong_Kong')\n",
    "c_now = datetime.now(tz)\n",
    "\n",
    "t = c_now.strftime(\"%d.%m.%Y %H:%M:%S\")\n",
    "print(\"time:\", t)"
   ]
  },
  {
   "cell_type": "code",
   "execution_count": 51,
   "metadata": {},
   "outputs": [
    {
     "name": "stdout",
     "output_type": "stream",
     "text": [
      "[['287332-bvos-app1.bvonesource.com', 0.42, 5.54, 36.25, 5.69], ['287333-bvos-app2.bvonesource.com', 0.25, 2.04, 6.23, 4.07], ['889925-was1.bvonesource.com', 0.44, 1.9, 11.1, 4.58], ['889926-was2.bvonesource.com', 0.48, 2.9, 12.38, 0.59], ['1069313-prod-alf-content1', 0.93, 15.92, 52.63, 30.32], ['1069315-prod-alf-content2', 1.15, 2.58, 30.15, 1.62], ['1069312-prod-alf-index1', 1.03, 14.48, 42.79, 22.99], ['1069314-prod-alf-index2', 1.19, 2.47, 23.88, 2.34]]\n"
     ]
    }
   ],
   "source": [
    "import mysql.connector\n",
    "import csv\n",
    "zabbixdb = mysql.connector.connect(\n",
    "  host=\"10.2.3.9\",\n",
    "  user=\"dinesh\",\n",
    "  password=\"Pass1234\"\n",
    ")\n",
    "#cpu_item = [73031,73129,73227,73325,80463,82749,80534,80605]\n",
    "cpu_item = {73031:'287332-bvos-app1.bvonesource.com',73129:'287333-bvos-app2.bvonesource.com',73227:'889925-was1.bvonesource.com',73325:'889926-was2.bvonesource.com',80463:'1069313-prod-alf-content1',82749:'1069315-prod-alf-content2',80534:'1069312-prod-alf-index1',80605:'1069314-prod-alf-index2'}\n",
    "header = [\"HOSTNAME\",\"CPU MIN\", \"CPU AVG\", \"CPU MAX\", \"CPU CURRENT\"]\n",
    "f = open('bvos.csv','w')\n",
    "\n",
    "j = 0\n",
    "usage = []\n",
    "usage1 = []\n",
    "for i in cpu_item:\n",
    "    c = zabbixdb.cursor(prepared=True)\n",
    "    c.execute(\"\"\"select min(value), avg(value), max(value) from (SELECT  value FROM zabbix.history where itemid = %s order by clock desc limit 180) sub\"\"\", (i,))\n",
    "    r = c.fetchall()\n",
    "    c.execute(\"\"\"SELECT value FROM zabbix.history where itemid = %s order by clock desc limit 1\"\"\", (i,))\n",
    "    lastvalue = c.fetchall()\n",
    "    usage = [cpu_item[i],round(r[0][0],2),round(r[0][1],2),round(r[0][2],2),round(lastvalue[0][0],2)]\n",
    "    usage1.append(usage)\n",
    "#    print(round(lastvalue[0][0],2),',',round(myresult[0][0],2),',',round(myresult[0][1],2),',',round(myresult[0][2],2) )\n",
    "#    w = csv.writer(f)\n",
    "#    w.writerow(usage)\n",
    "\n",
    "#f.close()\n",
    "print(usage1)\n",
    "\n",
    "with open('bvos.csv', 'w',newline='') as f: \n",
    "      \n",
    "    # using csv.writer method from CSV package \n",
    "    write = csv.writer(f) \n",
    "      \n",
    "    write.writerow(header) \n",
    "    write.writerows(usage1) \n",
    "f.close()\n",
    "    "
   ]
  },
  {
   "cell_type": "code",
   "execution_count": 94,
   "metadata": {},
   "outputs": [
    {
     "name": "stdout",
     "output_type": "stream",
     "text": [
      "[['287332-bvos-app1.bvonesource.com', 2.86, 3.9, 5.18, 3.98], ['287333-bvos-app2.bvonesource.com', 3.34, 4.58, 5.76, 4.93], ['889925-was1.bvonesource.com', 3.41, 5.75, 7.16, 3.86], ['889926-was2.bvonesource.com', 3.28, 5.84, 7.56, 6.26], ['1069313-prod-alf-content1', 3.0, 3.79, 4.86, 3.0], ['1069315-prod-alf-content2', 1.57, 3.93, 6.09, 1.62], ['1069312-prod-alf-index1', 2.61, 3.46, 4.64, 4.07], ['1069314-prod-alf-index2', 1.5, 3.32, 6.3, 4.54]]\n"
     ]
    }
   ],
   "source": [
    "import mysql.connector\n",
    "from decimal import *\n",
    "import csv\n",
    "zabbixdb = mysql.connector.connect(\n",
    "  host=\"10.2.3.9\",\n",
    "  user=\"dinesh\",\n",
    "  password=\"Pass1234\"\n",
    ")\n",
    "\n",
    "heap_item = {77363:'287332-bvos-app1.bvonesource.com',73064:'287333-bvos-app2.bvonesource.com',73162:'889925-was1.bvonesource.com',73260:'889926-was2.bvonesource.com',81037:'1069313-prod-alf-content1',80827:'1069315-prod-alf-content2',81044:'1069312-prod-alf-index1',80774:'1069314-prod-alf-index2'}\n",
    "header = [\"HOSTNAME\",\"Heap MIN\", \"Heap AVG\", \"Heap MAX\", \"Heap CURRENT\"]\n",
    "f = open('bvos_heap.csv','w')\n",
    "usage = []\n",
    "usage1 = []\n",
    "for i in heap_item:\n",
    "    c = zabbixdb.cursor()\n",
    "    c.execute(\"\"\"select min(value), avg(value), max(value) from (SELECT value FROM zabbix.history_uint where itemid = %s order by clock desc limit 36) sub\"\"\",(i,))\n",
    "    r = c.fetchall()\n",
    "    c.execute(\"\"\"SELECT  value FROM zabbix.history_uint where itemid = %s order by clock desc limit 1\"\"\", (i,))\n",
    "    lastvalue = c.fetchall()\n",
    "    usage = [heap_item[i],round(r[0][0]/(1024*1024*1024),2),round(float(r[0][1]/(1024*1024*1024)),2),round(r[0][2]/(1024*1024*1024),2),round(lastvalue[0][0]/(1024*1024*1024),2)]\n",
    "#    print(usage)\n",
    "    usage1.append(usage)\n",
    "\n",
    "print(usage1)\n",
    "\n",
    "with open('bvos_heap.csv', 'w',newline='') as f: \n",
    "      \n",
    "  \n",
    "     write = csv.writer(f) \n",
    "#      \n",
    "     write.writerow(header) \n",
    "     write.writerows(usage1) \n",
    "     f.close()"
   ]
  },
  {
   "cell_type": "code",
   "execution_count": 86,
   "metadata": {},
   "outputs": [
    {
     "ename": "SyntaxError",
     "evalue": "invalid syntax (<ipython-input-86-2e4fa2fe21c5>, line 1)",
     "output_type": "error",
     "traceback": [
      "\u001b[1;36m  File \u001b[1;32m\"<ipython-input-86-2e4fa2fe21c5>\"\u001b[1;36m, line \u001b[1;32m1\u001b[0m\n\u001b[1;33m    select min(value), avg(value), max(value) from (SELECT  value FROM zabbix.history_uint where itemid = 77363 order by clock desc limit 36) sub;\u001b[0m\n\u001b[1;37m             ^\u001b[0m\n\u001b[1;31mSyntaxError\u001b[0m\u001b[1;31m:\u001b[0m invalid syntax\n"
     ]
    }
   ],
   "source": [
    "select min(value), avg(value), max(value) from (SELECT  value FROM zabbix.history_uint where itemid = 77363 order by clock desc limit 36) sub;"
   ]
  },
  {
   "cell_type": "code",
   "execution_count": null,
   "metadata": {},
   "outputs": [],
   "source": []
  }
 ],
 "metadata": {
  "kernelspec": {
   "display_name": "Python 3",
   "language": "python",
   "name": "python3"
  },
  "language_info": {
   "codemirror_mode": {
    "name": "ipython",
    "version": 3
   },
   "file_extension": ".py",
   "mimetype": "text/x-python",
   "name": "python",
   "nbconvert_exporter": "python",
   "pygments_lexer": "ipython3",
   "version": "3.7.6"
  }
 },
 "nbformat": 4,
 "nbformat_minor": 4
}
