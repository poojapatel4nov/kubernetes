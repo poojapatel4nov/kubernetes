{
 "cells": [
  {
   "cell_type": "code",
   "execution_count": 10,
   "metadata": {},
   "outputs": [
    {
     "name": "stdout",
     "output_type": "stream",
     "text": [
      "{1: 'rose', 2: 'lily', 3: 'lotus', 4: 'tulip'}\n",
      "<class 'dict'>\n"
     ]
    }
   ],
   "source": [
    "import pickle\n",
    "flower_dic = {1:'rose', 2:'lily',3:'lotus',4:'tulip'}\n",
    "filename = 'flower.txt'\n",
    "outfile = open(filename,'wb')\n",
    "pickle.dump(flower_dic, outfile)\n",
    "outfile.close()\n",
    "\n",
    "infile = open(filename,'rb')\n",
    "new_dic = pickle.load(infile)\n",
    "infile.close()\n",
    "print(new_dic)\n",
    "print(type(new_dic))\n",
    "\n"
   ]
  },
  {
   "cell_type": "code",
   "execution_count": null,
   "metadata": {},
   "outputs": [],
   "source": []
  }
 ],
 "metadata": {
  "kernelspec": {
   "display_name": "Python 3",
   "language": "python",
   "name": "python3"
  },
  "language_info": {
   "codemirror_mode": {
    "name": "ipython",
    "version": 3
   },
   "file_extension": ".py",
   "mimetype": "text/x-python",
   "name": "python",
   "nbconvert_exporter": "python",
   "pygments_lexer": "ipython3",
   "version": "3.7.6"
  }
 },
 "nbformat": 4,
 "nbformat_minor": 4
}
