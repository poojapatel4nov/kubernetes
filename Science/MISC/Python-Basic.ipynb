{
 "cells": [
  {
   "cell_type": "code",
   "execution_count": 12,
   "metadata": {},
   "outputs": [
    {
     "name": "stdout",
     "output_type": "stream",
     "text": [
      "11 6 3.5 3.0\n"
     ]
    }
   ],
   "source": [
    "class math1:\n",
    "    def __init__(self):\n",
    "        self.x = 1\n",
    "        self.y = 2\n",
    "    def add1(self,x,y):\n",
    "        return x+y\n",
    "    def mult1(self,x,y):\n",
    "        return x*y\n",
    "    \n",
    "    def div1(self,x,y):\n",
    "        return x/y\n",
    "        \n",
    "    def sqrt1(self,x):\n",
    "        return x**0.5\n",
    "    \n",
    "def main():\n",
    "    a = math1()\n",
    "    x=a.add1(5,6)\n",
    "    y=a.mult1(2,3)\n",
    "    z=a.div1(7,2)\n",
    "    k=round(a.sqrt1(9),2)\n",
    "    print(x,y,z,k)\n",
    "\n",
    "if __name__ ==\"__main__\":\n",
    "    main()"
   ]
  },
  {
   "cell_type": "code",
   "execution_count": 6,
   "metadata": {},
   "outputs": [
    {
     "name": "stdout",
     "output_type": "stream",
     "text": [
      "3.0\n"
     ]
    }
   ],
   "source": [
    "x = 6\n",
    "y = 2\n",
    "print(x/y)"
   ]
  },
  {
   "cell_type": "code",
   "execution_count": 21,
   "metadata": {},
   "outputs": [
    {
     "name": "stdout",
     "output_type": "stream",
     "text": [
      "4.58\n"
     ]
    }
   ],
   "source": [
    "class area():\n",
    "    def __init__(self):\n",
    "        self.x =2\n",
    "    def atri(self,x,y,z):\n",
    "        s = (x+y+z)/2\n",
    "        a = (s*(s-x)*(s-y)*(s-z))**0.5\n",
    "        return a\n",
    "    def arect(self,x,y):\n",
    "        a = x*y\n",
    "        return a\n",
    "def main():\n",
    "    x = area()\n",
    "    a = x.atri(2,4.58,5)\n",
    "    print(round(a,2))\n",
    "\n",
    "if __name__==\"__main__\":\n",
    "    main()"
   ]
  },
  {
   "cell_type": "code",
   "execution_count": 15,
   "metadata": {},
   "outputs": [
    {
     "name": "stdout",
     "output_type": "stream",
     "text": [
      "4.58\n"
     ]
    }
   ],
   "source": [
    "z=5\n",
    "x=2\n",
    "y = (z**2 - x**2)**0.5\n",
    "print(round(y,2))"
   ]
  },
  {
   "cell_type": "code",
   "execution_count": 22,
   "metadata": {},
   "outputs": [
    {
     "name": "stdout",
     "output_type": "stream",
     "text": [
      "6 5\n"
     ]
    }
   ],
   "source": [
    "def swap1(x,y):\n",
    "    temp = x\n",
    "    x = y\n",
    "    y = temp\n",
    "    return x,y\n",
    "\n",
    "def main():\n",
    "    a,b = swap1(5,6)\n",
    "    print(a,b)\n",
    "    \n",
    "if __name__==\"__main__\":\n",
    "    main()"
   ]
  },
  {
   "cell_type": "code",
   "execution_count": 23,
   "metadata": {},
   "outputs": [
    {
     "name": "stdout",
     "output_type": "stream",
     "text": [
      "[5, 2, 3, 4, 1]\n"
     ]
    }
   ],
   "source": [
    "alist = [1,2,3,4,5]\n",
    "alist[0],alist[-1] = alist[-1],alist[0]\n",
    "print(alist)\n"
   ]
  },
  {
   "cell_type": "code",
   "execution_count": 26,
   "metadata": {},
   "outputs": [
    {
     "name": "stdout",
     "output_type": "stream",
     "text": [
      "['aa', 'bb', 'cc', 'dd', 'ee', 'ff']\n"
     ]
    }
   ],
   "source": [
    "list1 = ['a','b','c','d','e','f']\n",
    "list2 = ['a','b','c','d','e','f']\n",
    "list3 = [i+j for i,j in zip(list1,list2)]\n",
    "print(list3)"
   ]
  },
  {
   "cell_type": "code",
   "execution_count": 27,
   "metadata": {},
   "outputs": [
    {
     "name": "stdout",
     "output_type": "stream",
     "text": [
      "['xa', 'xb', 'ya', 'yb']\n"
     ]
    }
   ],
   "source": [
    "list1 = ['x','y']\n",
    "list2 = ['a','b']\n",
    "list3 = [i+j for i in list1 for j in list2]\n",
    "print(list3)"
   ]
  },
  {
   "cell_type": "code",
   "execution_count": 30,
   "metadata": {},
   "outputs": [
    {
     "name": "stdout",
     "output_type": "stream",
     "text": [
      "['a', 'b', 'c', 'e', 'f']\n"
     ]
    }
   ],
   "source": [
    "list1 = ['a','b','c','','e','f']\n",
    "list2 = list(filter(None,list1))\n",
    "print(list2)"
   ]
  },
  {
   "cell_type": "code",
   "execution_count": 31,
   "metadata": {},
   "outputs": [
    {
     "name": "stdout",
     "output_type": "stream",
     "text": [
      "{'apple': 50, 'banana': 40, 'orange': 20}\n"
     ]
    }
   ],
   "source": [
    "key = ['apple', 'banana','orange']\n",
    "value = [50,40,20]\n",
    "d = dict(zip(key,value))\n",
    "print(d)"
   ]
  },
  {
   "cell_type": "code",
   "execution_count": 39,
   "metadata": {},
   "outputs": [
    {
     "name": "stdout",
     "output_type": "stream",
     "text": [
      "{'potato': 20, 'onion': 40, 'garlic': 60, 'banana': 40, 'apple': 50, 'orange': 20}\n"
     ]
    }
   ],
   "source": [
    "dict1 = {'apple': 50, 'banana': 40, 'orange': 20}\n",
    "dict2 = {'potato':20, 'onion':40, 'garlic':60, 'banana':40}\n",
    "dict3 = {**dict2, **dict1}\n",
    "\n",
    "print(dict3)"
   ]
  },
  {
   "cell_type": "code",
   "execution_count": 43,
   "metadata": {},
   "outputs": [
    {
     "name": "stdout",
     "output_type": "stream",
     "text": [
      "True\n"
     ]
    }
   ],
   "source": [
    "#Check if a value 20 exists in a dictionary\n",
    "s = {'potato': 20, 'onion': 40, 'garlic': 60, 'banana': 40, 'apple': 50, 'orange': 20}\n",
    "print(20 in s.values())"
   ]
  },
  {
   "cell_type": "code",
   "execution_count": 44,
   "metadata": {},
   "outputs": [
    {
     "name": "stdout",
     "output_type": "stream",
     "text": [
      "{'potato': 20, 'onion': 40, 'garlic': 60, 'apple': 50, 'orange': 20, 'kela': 40}\n"
     ]
    }
   ],
   "source": [
    "#replace a key in a dictionary \n",
    "dict1 = {'potato': 20, 'onion': 40, 'garlic': 60, 'banana': 40, 'apple': 50, 'orange': 20}\n",
    "dict1['kela'] = dict1.pop('banana')\n",
    "print(dict1)"
   ]
  },
  {
   "cell_type": "code",
   "execution_count": 47,
   "metadata": {},
   "outputs": [
    {
     "name": "stdout",
     "output_type": "stream",
     "text": [
      "potato\n"
     ]
    }
   ],
   "source": [
    "dict1 = {'potato': 10, 'onion': 40, 'garlic': 60, 'banana': 40, 'apple': 50, 'orange': 20}\n",
    "print(min(dict1, key=dict1.get))\n"
   ]
  },
  {
   "cell_type": "code",
   "execution_count": 52,
   "metadata": {},
   "outputs": [
    {
     "name": "stdout",
     "output_type": "stream",
     "text": [
      "[69, 319, 485, 83, 165, 141, 263, 219, 105, 47, 375, 345, 399, 219, 237, 217, 67, 81, 379, 445, 451, 93]\n"
     ]
    }
   ],
   "source": [
    "#Write a python program that prints all the values which are odd and less than 500 from given list of numbers.\n",
    "numbers = [\n",
    "    951, 402, 984, 651, 360, 69, 408, 319, 601, 485, 980, 507, 725, 547, 544,\n",
    "    615, 83, 165, 141, 501, 263, 617, 865, 575, 219, 390, 984, 592, 236, 105, 942, 941,\n",
    "    386, 462, 47, 418, 907, 344, 236, 375, 823, 566, 597, 978, 328, 615, 953, 345,\n",
    "    399, 162, 758, 219, 918, 237, 412, 566, 826, 248, 866, 950, 626, 949, 687, 217,\n",
    "    815, 67, 104, 58, 512, 24, 892, 894, 767, 553, 81, 379, 843, 831, 445, 742, 717,\n",
    "    958, 609, 842, 451, 688, 753, 854, 685, 93, 857, 440, 380, 126, 721, 328, 753, 470, 743, 527 \n",
    "]\n",
    "\n",
    "list2 = []\n",
    "for i in numbers:\n",
    "    if i >500 or i%2==0:\n",
    "        continue\n",
    "    else:\n",
    "        list2.append(i)\n",
    "\n",
    "print(list2)\n",
    "    "
   ]
  },
  {
   "cell_type": "code",
   "execution_count": 64,
   "metadata": {},
   "outputs": [
    {
     "name": "stdout",
     "output_type": "stream",
     "text": [
      "[651, 105, 462, 399, 609, 126]\n"
     ]
    }
   ],
   "source": [
    "#Find all the numbers from given list which are factor of both 3, 7 .\n",
    "list2 = []\n",
    "for i in numbers:\n",
    "    if i%3==0 and i%7==0:\n",
    "        list2.append(i)\n",
    "\n",
    "print(list2)"
   ]
  },
  {
   "cell_type": "code",
   "execution_count": 65,
   "metadata": {},
   "outputs": [
    {
     "name": "stdout",
     "output_type": "stream",
     "text": [
      "984\n"
     ]
    }
   ],
   "source": [
    "print(max(numbers))"
   ]
  },
  {
   "cell_type": "code",
   "execution_count": 22,
   "metadata": {},
   "outputs": [
    {
     "name": "stdout",
     "output_type": "stream",
     "text": [
      "25585517\n",
      "26444405\n",
      "22763569\n",
      "37869077\n",
      "32548648\n",
      "25066165\n",
      "35298719\n",
      "20201658\n",
      "21784303\n",
      "28341115\n"
     ]
    }
   ],
   "source": [
    "import random\n",
    "for i in range(10):\n",
    "    print(random.randint(10000000,50000000))"
   ]
  },
  {
   "cell_type": "code",
   "execution_count": 39,
   "metadata": {},
   "outputs": [
    {
     "name": "stdout",
     "output_type": "stream",
     "text": [
      "Prime\n"
     ]
    }
   ],
   "source": [
    "#Prime number\n",
    "n=13\n",
    "p=''\n",
    "for i in range(2,n):\n",
    "    if n%i == 0:\n",
    "        p ='N'\n",
    "        break\n",
    "        \n",
    "if p ==\"N\":\n",
    "    print('Not Prime')\n",
    "else:\n",
    "    print('Prime')\n",
    "        \n",
    "\n",
    "        \n",
    "    \n",
    "        "
   ]
  },
  {
   "cell_type": "code",
   "execution_count": 61,
   "metadata": {},
   "outputs": [
    {
     "name": "stdout",
     "output_type": "stream",
     "text": [
      "Prime numbers between 11 and 100 are:\n",
      "[11, 13, 17, 19, 23, 29, 31, 37, 41, 43, 47, 53, 59, 61, 67, 71, 73, 79, 83, 89, 97]\n"
     ]
    }
   ],
   "source": [
    "lower = 11\n",
    "upper = 100\n",
    "\n",
    "print(\"Prime numbers between\", lower, \"and\", upper, \"are:\")\n",
    "count =0\n",
    "list1=[]\n",
    "for num in range(lower, upper + 1):\n",
    "   # all prime numbers are greater than 1\n",
    "    for i in range(2, num):\n",
    "        if (num % i) == 0:\n",
    "            count =count+1\n",
    "            break\n",
    "        else:\n",
    "            count =0\n",
    "    \n",
    "    if(count ==0):\n",
    "        list1.append(num)\n",
    "print(list1)\n",
    "        \n",
    "            "
   ]
  },
  {
   "cell_type": "code",
   "execution_count": 70,
   "metadata": {},
   "outputs": [
    {
     "name": "stdout",
     "output_type": "stream",
     "text": [
      "30414093201713378043612608166064768844377641568960512000000000000\n"
     ]
    }
   ],
   "source": [
    "#Fectorial of number.\n",
    "n=50\n",
    "fact=1\n",
    "if n <=0:\n",
    "    print('factorial can not be calculated for 0 or nagetive number')\n",
    "else:\n",
    "    for i in range(1,n+1):\n",
    "        fact = fact*i\n",
    "\n",
    "    print(fact)"
   ]
  },
  {
   "cell_type": "code",
   "execution_count": 75,
   "metadata": {},
   "outputs": [
    {
     "name": "stdout",
     "output_type": "stream",
     "text": [
      "1 X 3 = 3\n",
      "2 X 3 = 6\n",
      "3 X 3 = 9\n",
      "4 X 3 = 12\n",
      "5 X 3 = 15\n",
      "6 X 3 = 18\n",
      "7 X 3 = 21\n",
      "8 X 3 = 24\n",
      "9 X 3 = 27\n",
      "10 X 3 = 30\n"
     ]
    }
   ],
   "source": [
    "#Print table of a given number\n",
    "n=3\n",
    "for i in range(1,11):\n",
    "    print(i, 'X', n, '=', i*n)\n",
    "    "
   ]
  },
  {
   "cell_type": "code",
   "execution_count": 107,
   "metadata": {},
   "outputs": [
    {
     "name": "stdout",
     "output_type": "stream",
     "text": [
      "153\n",
      "370\n",
      "371\n",
      "407\n"
     ]
    }
   ],
   "source": [
    "#Print Armstrong Number in a range.\n",
    "n = 1000\n",
    "tens =0\n",
    "\n",
    "for i in range(100,n+1):\n",
    "    po = len(str(i))\n",
    "    temp = i\n",
    "    sum = 0\n",
    "    while temp>0:\n",
    "        r = temp%10\n",
    "        sum = sum + r**po\n",
    "        temp //=10\n",
    "    if sum == i:\n",
    "        print(sum)\n",
    "    "
   ]
  },
  {
   "cell_type": "code",
   "execution_count": 111,
   "metadata": {},
   "outputs": [
    {
     "data": {
      "text/plain": [
       "36"
      ]
     },
     "execution_count": 111,
     "metadata": {},
     "output_type": "execute_result"
    }
   ],
   "source": [
    "\n",
    "po = lambda x:x**2\n",
    "po(6)"
   ]
  },
  {
   "cell_type": "code",
   "execution_count": 112,
   "metadata": {},
   "outputs": [
    {
     "name": "stdout",
     "output_type": "stream",
     "text": [
      "The decimal value of 344 is:\n",
      "0b101011000 in binary.\n",
      "0o530 in octal.\n",
      "0x158 in hexadecimal.\n"
     ]
    }
   ],
   "source": [
    "# Python program to convert decimal into other number systems\n",
    "dec = 344\n",
    "\n",
    "print(\"The decimal value of\", dec, \"is:\")\n",
    "print(bin(dec), \"in binary.\")\n",
    "print(oct(dec), \"in octal.\")\n",
    "print(hex(dec), \"in hexadecimal.\")"
   ]
  },
  {
   "cell_type": "code",
   "execution_count": 117,
   "metadata": {},
   "outputs": [
    {
     "name": "stdout",
     "output_type": "stream",
     "text": [
      "66\n"
     ]
    }
   ],
   "source": [
    "#Unicode value of a char\n",
    "str = 'B'\n",
    "print(ord(str))"
   ]
  },
  {
   "cell_type": "code",
   "execution_count": 119,
   "metadata": {},
   "outputs": [
    {
     "name": "stdout",
     "output_type": "stream",
     "text": [
      "You got:\n",
      "9 of Diamond\n",
      "13 of Club\n",
      "7 of Diamond\n",
      "4 of Heart\n",
      "3 of Heart\n"
     ]
    }
   ],
   "source": [
    "# Python program to shuffle a deck of card\n",
    "\n",
    "# importing modules\n",
    "import itertools, random\n",
    "\n",
    "# make a deck of cards\n",
    "deck = list(itertools.product(range(1,14),['Spade','Heart','Diamond','Club']))\n",
    "\n",
    "# shuffle the cards\n",
    "random.shuffle(deck)\n",
    "\n",
    "# draw five cards\n",
    "print(\"You got:\")\n",
    "for i in range(5):\n",
    "   print(deck[i][0], \"of\", deck[i][1])"
   ]
  },
  {
   "cell_type": "code",
   "execution_count": 122,
   "metadata": {},
   "outputs": [
    {
     "name": "stdout",
     "output_type": "stream",
     "text": [
      "   February 2021\n",
      "Mo Tu We Th Fr Sa Su\n",
      " 1  2  3  4  5  6  7\n",
      " 8  9 10 11 12 13 14\n",
      "15 16 17 18 19 20 21\n",
      "22 23 24 25 26 27 28\n",
      "\n"
     ]
    }
   ],
   "source": [
    "# Program to display calendar of the given month and year\n",
    "\n",
    "# importing calendar module\n",
    "import calendar\n",
    "\n",
    "yy = 2021  # year\n",
    "mm = 2    # month\n",
    "\n",
    "# To take month and year input from the user\n",
    "# yy = int(input(\"Enter year: \"))\n",
    "# mm = int(input(\"Enter month: \"))\n",
    "\n",
    "# display the calendar\n",
    "print(calendar.month(yy, mm))"
   ]
  },
  {
   "cell_type": "code",
   "execution_count": 127,
   "metadata": {},
   "outputs": [
    {
     "name": "stdout",
     "output_type": "stream",
     "text": [
      "[0]\n",
      "[0, 1]\n",
      "[0, 1, 1, 2, 3, 5, 8, 13, 21, 34, 55]\n"
     ]
    }
   ],
   "source": [
    "#Fibbonancy series using list\n",
    "n =10\n",
    "list1 =[]\n",
    "for i in range(n+1):\n",
    "    if i == 0:\n",
    "        list1.append(i)\n",
    "        print(list1)\n",
    "    if i == 1:\n",
    "        list1.append(i)\n",
    "        print(list1)\n",
    "    if i >1:\n",
    "        list1.append(list1[i-2]+list1[i-1])\n",
    "print(list1)\n"
   ]
  },
  {
   "cell_type": "code",
   "execution_count": 134,
   "metadata": {},
   "outputs": [
    {
     "name": "stdout",
     "output_type": "stream",
     "text": [
      "0\n",
      "1\n",
      "1\n",
      "2\n",
      "3\n",
      "5\n",
      "8\n",
      "13\n",
      "21\n",
      "34\n",
      "55\n"
     ]
    }
   ],
   "source": [
    "#fibbonecy series using recurive function\n",
    "def fibb(x):\n",
    "    if x ==0:\n",
    "        return 0\n",
    "    elif x ==1:\n",
    "        return 1\n",
    "    else:\n",
    "        return fibb(x-2)+fibb(x-1)\n",
    "\n",
    "x=10\n",
    "for i in range(x+1):\n",
    "    print(fibb(i))\n",
    "\n",
    "    "
   ]
  },
  {
   "cell_type": "code",
   "execution_count": 146,
   "metadata": {},
   "outputs": [
    {
     "name": "stdout",
     "output_type": "stream",
     "text": [
      "The string is a palindrome.\n",
      "['d', 'a', 'd']\n",
      "['d', 'a', 'd']\n"
     ]
    }
   ],
   "source": [
    "# Program to check if a string is palindrome or not\n",
    "\n",
    "my_str = 'Dad'\n",
    "\n",
    "# make it suitable for caseless comparison\n",
    "my_str = my_str.casefold()\n",
    "# reverse the string\n",
    "rev_str = reversed(my_str)\n",
    "\n",
    "# check if the string is equal to its reverse\n",
    "if list(my_str) == list(rev_str):\n",
    "   print(\"The string is a palindrome.\")\n",
    "else:\n",
    "   print(\"The string is not a palindrome.\")\n",
    "\n",
    "rev_str = reversed(my_str)\n",
    "print(list(my_str))\n",
    "print(list(rev_str))"
   ]
  },
  {
   "cell_type": "code",
   "execution_count": 147,
   "metadata": {},
   "outputs": [
    {
     "name": "stdout",
     "output_type": "stream",
     "text": [
      "Factorial of 5 is 120\n"
     ]
    }
   ],
   "source": [
    "# Python 3 program to find\n",
    "# factorial of given number\n",
    "def factorial(n):\n",
    "# single line to find factorial\n",
    "    return 1 if (n==1 or n==0) else n * factorial(n - 1);\n",
    "# Driver Code\n",
    "num = 5;\n",
    "print(\"Factorial of\",num,\"is\",\n",
    "factorial(num)) "
   ]
  },
  {
   "cell_type": "code",
   "execution_count": 163,
   "metadata": {},
   "outputs": [
    {
     "name": "stdout",
     "output_type": "stream",
     "text": [
      "['a', 'd', 'h', 'b', 'c', 'e', 'i', 'f', 'g']\n"
     ]
    }
   ],
   "source": [
    "import operator\n",
    "list1 = [\"a\", \"b\", \"c\", \"d\", \"e\", \"f\", \"g\", \"h\", \"i\"]\n",
    "list2 = [ 0,   1,   1,    0,   1,   2,   2,   0,   1]\n",
    "list_tuple = zip(list2,list1)\n",
    "z=[x for _,x in sorted(list_tuple)]\n",
    "print(z)"
   ]
  },
  {
   "cell_type": "code",
   "execution_count": 168,
   "metadata": {},
   "outputs": [
    {
     "name": "stdout",
     "output_type": "stream",
     "text": [
      "b'\\x00\\x00\\x00\\x00\\x00\\x00\\x00'\n",
      "b'\\x00\\x00\\x00\\x00\\x00\\x00\\x00\\x00\\x00\\x00'\n",
      "13\n"
     ]
    }
   ],
   "source": [
    "a= 7\n",
    "print(bytes())\n",
    "b= 10\n",
    "print(bytes(b))\n",
    "\n",
    "c = a^b\n",
    "print(c)"
   ]
  },
  {
   "cell_type": "code",
   "execution_count": null,
   "metadata": {},
   "outputs": [],
   "source": []
  }
 ],
 "metadata": {
  "kernelspec": {
   "display_name": "Python 3",
   "language": "python",
   "name": "python3"
  },
  "language_info": {
   "codemirror_mode": {
    "name": "ipython",
    "version": 3
   },
   "file_extension": ".py",
   "mimetype": "text/x-python",
   "name": "python",
   "nbconvert_exporter": "python",
   "pygments_lexer": "ipython3",
   "version": "3.7.6"
  }
 },
 "nbformat": 4,
 "nbformat_minor": 4
}
