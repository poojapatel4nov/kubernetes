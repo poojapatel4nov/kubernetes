{
 "cells": [
  {
   "cell_type": "code",
   "execution_count": 13,
   "metadata": {},
   "outputs": [
    {
     "name": "stdout",
     "output_type": "stream",
     "text": [
      "this is my first file\n"
     ]
    }
   ],
   "source": [
    "file = open(\"C:\\\\Users\\\\dinepatel\\\\my_test.txt\",'w')\n",
    "file.write(\"this is my first file \\n\")\n",
    "file.close\n",
    "\n",
    "readme=open(\"C:\\\\Users\\\\dinepatel\\\\my_test.txt\",'r')\n",
    "print(readme.read())\n",
    "readme.close()\n",
    "\n",
    "\n"
   ]
  },
  {
   "cell_type": "code",
   "execution_count": 22,
   "metadata": {},
   "outputs": [
    {
     "name": "stdout",
     "output_type": "stream",
     "text": [
      "this is my first file\n",
      " this is second line\n",
      " this is second linethis is second linethis is second linethis is second line \n",
      "this is second line \n",
      "this is second line \n",
      "this is second line \n",
      "this is second line \n",
      "\n"
     ]
    }
   ],
   "source": [
    "file2=open(\"C:\\\\Users\\\\dinepatel\\\\my_test.txt\",'a')\n",
    "file2.write(\"this is second line \\n\")\n",
    "file2.close\n",
    "readme = open(\"C:\\\\Users\\\\dinepatel\\\\my_test.txt\",'r')\n",
    "print(readme.read())\n",
    "readme.close()"
   ]
  },
  {
   "cell_type": "code",
   "execution_count": 8,
   "metadata": {},
   "outputs": [
    {
     "name": "stdout",
     "output_type": "stream",
     "text": [
      "\n",
      "\n",
      "this\n",
      "is\n",
      "\n",
      "first\n",
      "line\n",
      "\n",
      "\n",
      "\n",
      "this\n",
      "is\n",
      "second\n",
      "line\n",
      "\n"
     ]
    }
   ],
   "source": [
    "#Python program to read file word by word\n",
    "file = open('1.txt','a')\n",
    "file.write(\"\\nthis is second line\\n\")\n",
    "file.close()\n",
    "\n",
    "file =open('1.txt','r')\n",
    "str = ''\n",
    "for i in file:\n",
    "    list1 = i.split(\" \")\n",
    "    for j in list1:\n",
    "        print(j)\n",
    "        \n",
    "file.close()\n"
   ]
  },
  {
   "cell_type": "code",
   "execution_count": 9,
   "metadata": {},
   "outputs": [
    {
     "name": "stdout",
     "output_type": "stream",
     "text": [
      "t\n",
      "h\n",
      "i\n",
      "s\n",
      " \n",
      "i\n",
      "s\n",
      " \n",
      "f\n",
      "i\n",
      "r\n",
      "s\n",
      "t\n",
      " \n",
      "l\n",
      "i\n",
      "s\n",
      "t\n",
      "\n",
      "\n"
     ]
    }
   ],
   "source": [
    "#Read a file charector by charector.\n",
    "file = open('2.txt','a')\n",
    "file.write(\"this is first list\\n\")\n",
    "file.close()\n",
    "\n",
    "file = open('2.txt','r')\n",
    "for line in file:\n",
    "    for j in line:\n",
    "        print(j)\n",
    "file.close()"
   ]
  },
  {
   "cell_type": "code",
   "execution_count": 53,
   "metadata": {},
   "outputs": [
    {
     "name": "stdout",
     "output_type": "stream",
     "text": [
      "No of Line 19\n",
      "No of word 22\n",
      "No of space 3\n",
      "No of char 16\n"
     ]
    }
   ],
   "source": [
    "#Read a file charector by charector.\n",
    "file = open('2.txt','a')\n",
    "file.write(\"this is second list\\n\")\n",
    "file.close()\n",
    "\n",
    "file = open('2.txt','r')\n",
    "c_line = 0\n",
    "c_word = 0\n",
    "c_space = 0\n",
    "c_char = 0\n",
    "for line in file.readline():\n",
    "    c_line +=1\n",
    "    list1 = line.split(\" \")\n",
    "    c_word += len(list1) \n",
    "    for j in line:\n",
    "        if(j == \" \"):\n",
    "            c_space +=1\n",
    "        else:\n",
    "            c_char +=1\n",
    "\n",
    "file.close()\n",
    "\n",
    "print(\"No of Line\",c_line )\n",
    "print(\"No of word\",c_word )\n",
    "print(\"No of space\",c_space )\n",
    "print(\"No of char\",c_char )"
   ]
  },
  {
   "cell_type": "code",
   "execution_count": 66,
   "metadata": {},
   "outputs": [
    {
     "name": "stdout",
     "output_type": "stream",
     "text": [
      "Occurence of coin:h is 7\n",
      "Occurence of coin:t is 3\n"
     ]
    }
   ],
   "source": [
    "file = open('3.txt','r')\n",
    "d = {}\n",
    "for i in file.readlines():\n",
    "#    list1 = i.strip(\":\")\n",
    "    i = i.lower()\n",
    "    lines = i.split()\n",
    "    for line in lines:\n",
    "        if line in d:\n",
    "            d[line] = d[line] + 1\n",
    "        else:\n",
    "            d[line] =1\n",
    "file.close()\n",
    "for i in d:\n",
    "    print('Occurence of '+i+' is',d[i])\n",
    "    "
   ]
  },
  {
   "cell_type": "code",
   "execution_count": 52,
   "metadata": {},
   "outputs": [
    {
     "name": "stdout",
     "output_type": "stream",
     "text": [
      ",\n"
     ]
    }
   ],
   "source": [
    "file = open('4.txt', 'w')\n",
    "file.write(\"hello , how are you\")\n",
    "file.close()\n",
    "n = 1\n",
    "\n",
    "file=open('4.txt','r')\n",
    "for i in file.readline():\n",
    "    list_str = i.split(\" \")\n",
    "    for j in list_str:\n",
    "        if(len(j) ==n):\n",
    "            print(j)\n",
    "            "
   ]
  },
  {
   "cell_type": "code",
   "execution_count": 46,
   "metadata": {},
   "outputs": [
    {
     "name": "stdout",
     "output_type": "stream",
     "text": [
      "1\n",
      "3\n"
     ]
    }
   ],
   "source": [
    "#file = open('5.txt', 'a')\n",
    "#file.write(\"\\nhello , how is your day\")\n",
    "#file.close()\n",
    "n = 0\n",
    "\n",
    "file=open('5.txt','r')\n",
    "for i in file.readline():\n",
    "    n += 1\n",
    "    a = i.find('how')\n",
    "    if a!=-1:\n",
    "        print(n)\n",
    "        "
   ]
  },
  {
   "cell_type": "code",
   "execution_count": 51,
   "metadata": {},
   "outputs": [
    {
     "name": "stdout",
     "output_type": "stream",
     "text": [
      "3\n"
     ]
    }
   ],
   "source": [
    "\n",
    "file=open('5.txt','r')\n",
    "t = file.read()\n",
    "c = 0\n",
    "c_list = t.split(\"\\n\")\n",
    "print(len(c_list))\n"
   ]
  },
  {
   "cell_type": "code",
   "execution_count": 83,
   "metadata": {},
   "outputs": [
    {
     "name": "stdout",
     "output_type": "stream",
     "text": [
      "hello , how are you\n",
      "hello , this is your day\n",
      "hello , how is your day\n"
     ]
    }
   ],
   "source": [
    "#delete a line from a file.\n",
    "file1 = open('5.txt','r')\n",
    "#f = file1.read()\n",
    "file2 = open('6.txt','w')\n",
    "text1 = \"Dinesh\"\n",
    "for i in file1:\n",
    "    if not (i.startswith(text1)):\n",
    "        file2.write(i)\n",
    "file1.close()\n",
    "file2.close()\n",
    "file3 =open('6.txt','r')\n",
    "print(file3.read())\n",
    "file3.close()"
   ]
  },
  {
   "cell_type": "code",
   "execution_count": null,
   "metadata": {},
   "outputs": [],
   "source": []
  },
  {
   "cell_type": "code",
   "execution_count": null,
   "metadata": {},
   "outputs": [],
   "source": []
  }
 ],
 "metadata": {
  "kernelspec": {
   "display_name": "Python 3",
   "language": "python",
   "name": "python3"
  },
  "language_info": {
   "codemirror_mode": {
    "name": "ipython",
    "version": 3
   },
   "file_extension": ".py",
   "mimetype": "text/x-python",
   "name": "python",
   "nbconvert_exporter": "python",
   "pygments_lexer": "ipython3",
   "version": "3.7.6"
  }
 },
 "nbformat": 4,
 "nbformat_minor": 4
}
