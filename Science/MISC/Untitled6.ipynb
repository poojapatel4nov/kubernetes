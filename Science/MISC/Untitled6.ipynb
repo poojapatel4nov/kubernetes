{
 "cells": [
  {
   "cell_type": "code",
   "execution_count": 13,
   "metadata": {},
   "outputs": [
    {
     "name": "stdout",
     "output_type": "stream",
     "text": [
      "this is my first file\n"
     ]
    }
   ],
   "source": [
    "file = open(\"C:\\\\Users\\\\dinepatel\\\\my_test.txt\",'w')\n",
    "file.write(\"this is my first file \\n\")\n",
    "file.close\n",
    "\n",
    "readme=open(\"C:\\\\Users\\\\dinepatel\\\\my_test.txt\",'r')\n",
    "print(readme.read())\n",
    "readme.close()\n",
    "\n",
    "\n"
   ]
  },
  {
   "cell_type": "code",
   "execution_count": 22,
   "metadata": {},
   "outputs": [
    {
     "name": "stdout",
     "output_type": "stream",
     "text": [
      "this is my first file\n",
      " this is second line\n",
      " this is second linethis is second linethis is second linethis is second line \n",
      "this is second line \n",
      "this is second line \n",
      "this is second line \n",
      "this is second line \n",
      "\n"
     ]
    }
   ],
   "source": [
    "file2=open(\"C:\\\\Users\\\\dinepatel\\\\my_test.txt\",'a')\n",
    "file2.write(\"this is second line \\n\")\n",
    "file2.close\n",
    "readme = open(\"C:\\\\Users\\\\dinepatel\\\\my_test.txt\",'r')\n",
    "print(readme.read())\n",
    "readme.close()"
   ]
  },
  {
   "cell_type": "code",
   "execution_count": null,
   "metadata": {},
   "outputs": [],
   "source": []
  },
  {
   "cell_type": "code",
   "execution_count": null,
   "metadata": {},
   "outputs": [],
   "source": []
  }
 ],
 "metadata": {
  "kernelspec": {
   "display_name": "Python 3",
   "language": "python",
   "name": "python3"
  },
  "language_info": {
   "codemirror_mode": {
    "name": "ipython",
    "version": 3
   },
   "file_extension": ".py",
   "mimetype": "text/x-python",
   "name": "python",
   "nbconvert_exporter": "python",
   "pygments_lexer": "ipython3",
   "version": "3.7.6"
  }
 },
 "nbformat": 4,
 "nbformat_minor": 4
}
